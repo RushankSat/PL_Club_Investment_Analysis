{
  "nbformat": 4,
  "nbformat_minor": 0,
  "metadata": {
    "colab": {
      "provenance": []
    },
    "kernelspec": {
      "name": "python3",
      "display_name": "Python 3"
    },
    "language_info": {
      "name": "python"
    }
  },
  "cells": [
    {
      "cell_type": "markdown",
      "source": [
        "# Premier League Club Investment Analysis for an Investment company (EDA)\n",
        "**Domain:Sport**\n",
        "\n",
        "**Context:**\n",
        "\n",
        "A renowned investment firm usually invest in top-tier sports teams that have potential. The dataset in their possession comprises crucial information about all the clubs that have participated in premier league (assume that it has the data for all clubs). It includes data on the number of goals scored, the number of times they have finished in the top two positions and other relevant details.\n",
        "\n",
        "**Data:**\n",
        "Premier League Final Data.csv- : The data set contains information on all the clubs so far participated in all the premier league tournaments.\n",
        "\n",
        "**Data Dictionary:**\n",
        "\n",
        "* Club: Name of the football club\n",
        "* Matches: Number of matches the club has played in the Premier League\n",
        "* Wins: Number of matches won by the club in the Premier League\n",
        "* Loss: Number of matches lost by the club in the Premier League\n",
        "* Draws: Number of matches drawn by the club in the Premier League\n",
        "* Clean Sheets: Number of matches in which the club has prevented the opposing side from scoring\n",
        "* Team Launch: Year in which the club was founded\n",
        "* Winners: Number of times the club has won the Premier League\n",
        "* Runners-up: Number of times the club has finished as runners-up in the Premier League\n",
        "* lastplayed_pl: Year in which the team last played in the Premier League\n",
        "\n",
        "**Project Objective**\n",
        "\n",
        "The management of the firm aims to invest in one of the top-performing club in the English Premier League. To aid in their decision-making process, the analytics department has been tasked with creating a comprehensive report on the performance of various clubs. However, some of the more established clubs have already been owned by the competitors. As a result, the firm wishes to identify the clubs they can approach and potentially invest to ensure a successful and profitable deal.\n",
        "\n",
        "*Note*\n",
        "\n",
        "*- Unauthorised use or distribution of this project prohibited @dataanalystduo*\n",
        "\n",
        "*- Dataset has been downloaded from the internet using multiple sources. All the credit for the dataset goes to the original creator of the data*"
      ],
      "metadata": {
        "id": "-1jAQiXIk3bY"
      }
    },
    {
      "cell_type": "markdown",
      "source": [
        "**Key learning after this project:**\n",
        "\n",
        "- Data cleaning is the process of identifying and correcting or removing errors, inconsistencies, and inaccuracies in a dataset.\n",
        "- Observation writing involves examining the data and noting any notable findings, anomalies, or areas of interest.\n",
        "- Exploratory Data Analysis (EDA) is the process of examining and visualizing a dataset to understand its main characteristics, such as the distribution of data, the relationships between variables, and any anomalies or patterns that may exist. The goal of EDA is to uncover insights and trends that can help inform further analysis or decision-making. It is often the first step in any data analysis project, as it provides a foundation for more advanced statistical methods and models.\n",
        "- Treat Null values basis domain knowledge aka using Domain-specific imputation"
      ],
      "metadata": {
        "id": "Kj9pyieRmQdw"
      }
    },
    {
      "cell_type": "code",
      "source": [
        "#Import Libraries for Data Analysis\n",
        "import numpy as np\n",
        "import pandas as pd\n",
        "\n"
      ],
      "metadata": {
        "id": "67vAl7v0maD_"
      },
      "execution_count": 1,
      "outputs": []
    },
    {
      "cell_type": "code",
      "source": [
        "#Get csv file into python\n",
        "\n",
        "import io\n",
        "from google.colab import files\n",
        "data = files.upload()\n",
        "df = pd.read_csv(io.BytesIO(data['Premier_League_Final_Data.csv']))"
      ],
      "metadata": {
        "colab": {
          "base_uri": "https://localhost:8080/",
          "height": 73
        },
        "id": "vhCVc22fmoqH",
        "outputId": "be6fda41-fab6-4ac9-960b-d951f9666a00"
      },
      "execution_count": 2,
      "outputs": [
        {
          "output_type": "display_data",
          "data": {
            "text/plain": [
              "<IPython.core.display.HTML object>"
            ],
            "text/html": [
              "\n",
              "     <input type=\"file\" id=\"files-582fe863-d7b4-458b-b3d7-5423717249e6\" name=\"files[]\" multiple disabled\n",
              "        style=\"border:none\" />\n",
              "     <output id=\"result-582fe863-d7b4-458b-b3d7-5423717249e6\">\n",
              "      Upload widget is only available when the cell has been executed in the\n",
              "      current browser session. Please rerun this cell to enable.\n",
              "      </output>\n",
              "      <script>// Copyright 2017 Google LLC\n",
              "//\n",
              "// Licensed under the Apache License, Version 2.0 (the \"License\");\n",
              "// you may not use this file except in compliance with the License.\n",
              "// You may obtain a copy of the License at\n",
              "//\n",
              "//      http://www.apache.org/licenses/LICENSE-2.0\n",
              "//\n",
              "// Unless required by applicable law or agreed to in writing, software\n",
              "// distributed under the License is distributed on an \"AS IS\" BASIS,\n",
              "// WITHOUT WARRANTIES OR CONDITIONS OF ANY KIND, either express or implied.\n",
              "// See the License for the specific language governing permissions and\n",
              "// limitations under the License.\n",
              "\n",
              "/**\n",
              " * @fileoverview Helpers for google.colab Python module.\n",
              " */\n",
              "(function(scope) {\n",
              "function span(text, styleAttributes = {}) {\n",
              "  const element = document.createElement('span');\n",
              "  element.textContent = text;\n",
              "  for (const key of Object.keys(styleAttributes)) {\n",
              "    element.style[key] = styleAttributes[key];\n",
              "  }\n",
              "  return element;\n",
              "}\n",
              "\n",
              "// Max number of bytes which will be uploaded at a time.\n",
              "const MAX_PAYLOAD_SIZE = 100 * 1024;\n",
              "\n",
              "function _uploadFiles(inputId, outputId) {\n",
              "  const steps = uploadFilesStep(inputId, outputId);\n",
              "  const outputElement = document.getElementById(outputId);\n",
              "  // Cache steps on the outputElement to make it available for the next call\n",
              "  // to uploadFilesContinue from Python.\n",
              "  outputElement.steps = steps;\n",
              "\n",
              "  return _uploadFilesContinue(outputId);\n",
              "}\n",
              "\n",
              "// This is roughly an async generator (not supported in the browser yet),\n",
              "// where there are multiple asynchronous steps and the Python side is going\n",
              "// to poll for completion of each step.\n",
              "// This uses a Promise to block the python side on completion of each step,\n",
              "// then passes the result of the previous step as the input to the next step.\n",
              "function _uploadFilesContinue(outputId) {\n",
              "  const outputElement = document.getElementById(outputId);\n",
              "  const steps = outputElement.steps;\n",
              "\n",
              "  const next = steps.next(outputElement.lastPromiseValue);\n",
              "  return Promise.resolve(next.value.promise).then((value) => {\n",
              "    // Cache the last promise value to make it available to the next\n",
              "    // step of the generator.\n",
              "    outputElement.lastPromiseValue = value;\n",
              "    return next.value.response;\n",
              "  });\n",
              "}\n",
              "\n",
              "/**\n",
              " * Generator function which is called between each async step of the upload\n",
              " * process.\n",
              " * @param {string} inputId Element ID of the input file picker element.\n",
              " * @param {string} outputId Element ID of the output display.\n",
              " * @return {!Iterable<!Object>} Iterable of next steps.\n",
              " */\n",
              "function* uploadFilesStep(inputId, outputId) {\n",
              "  const inputElement = document.getElementById(inputId);\n",
              "  inputElement.disabled = false;\n",
              "\n",
              "  const outputElement = document.getElementById(outputId);\n",
              "  outputElement.innerHTML = '';\n",
              "\n",
              "  const pickedPromise = new Promise((resolve) => {\n",
              "    inputElement.addEventListener('change', (e) => {\n",
              "      resolve(e.target.files);\n",
              "    });\n",
              "  });\n",
              "\n",
              "  const cancel = document.createElement('button');\n",
              "  inputElement.parentElement.appendChild(cancel);\n",
              "  cancel.textContent = 'Cancel upload';\n",
              "  const cancelPromise = new Promise((resolve) => {\n",
              "    cancel.onclick = () => {\n",
              "      resolve(null);\n",
              "    };\n",
              "  });\n",
              "\n",
              "  // Wait for the user to pick the files.\n",
              "  const files = yield {\n",
              "    promise: Promise.race([pickedPromise, cancelPromise]),\n",
              "    response: {\n",
              "      action: 'starting',\n",
              "    }\n",
              "  };\n",
              "\n",
              "  cancel.remove();\n",
              "\n",
              "  // Disable the input element since further picks are not allowed.\n",
              "  inputElement.disabled = true;\n",
              "\n",
              "  if (!files) {\n",
              "    return {\n",
              "      response: {\n",
              "        action: 'complete',\n",
              "      }\n",
              "    };\n",
              "  }\n",
              "\n",
              "  for (const file of files) {\n",
              "    const li = document.createElement('li');\n",
              "    li.append(span(file.name, {fontWeight: 'bold'}));\n",
              "    li.append(span(\n",
              "        `(${file.type || 'n/a'}) - ${file.size} bytes, ` +\n",
              "        `last modified: ${\n",
              "            file.lastModifiedDate ? file.lastModifiedDate.toLocaleDateString() :\n",
              "                                    'n/a'} - `));\n",
              "    const percent = span('0% done');\n",
              "    li.appendChild(percent);\n",
              "\n",
              "    outputElement.appendChild(li);\n",
              "\n",
              "    const fileDataPromise = new Promise((resolve) => {\n",
              "      const reader = new FileReader();\n",
              "      reader.onload = (e) => {\n",
              "        resolve(e.target.result);\n",
              "      };\n",
              "      reader.readAsArrayBuffer(file);\n",
              "    });\n",
              "    // Wait for the data to be ready.\n",
              "    let fileData = yield {\n",
              "      promise: fileDataPromise,\n",
              "      response: {\n",
              "        action: 'continue',\n",
              "      }\n",
              "    };\n",
              "\n",
              "    // Use a chunked sending to avoid message size limits. See b/62115660.\n",
              "    let position = 0;\n",
              "    do {\n",
              "      const length = Math.min(fileData.byteLength - position, MAX_PAYLOAD_SIZE);\n",
              "      const chunk = new Uint8Array(fileData, position, length);\n",
              "      position += length;\n",
              "\n",
              "      const base64 = btoa(String.fromCharCode.apply(null, chunk));\n",
              "      yield {\n",
              "        response: {\n",
              "          action: 'append',\n",
              "          file: file.name,\n",
              "          data: base64,\n",
              "        },\n",
              "      };\n",
              "\n",
              "      let percentDone = fileData.byteLength === 0 ?\n",
              "          100 :\n",
              "          Math.round((position / fileData.byteLength) * 100);\n",
              "      percent.textContent = `${percentDone}% done`;\n",
              "\n",
              "    } while (position < fileData.byteLength);\n",
              "  }\n",
              "\n",
              "  // All done.\n",
              "  yield {\n",
              "    response: {\n",
              "      action: 'complete',\n",
              "    }\n",
              "  };\n",
              "}\n",
              "\n",
              "scope.google = scope.google || {};\n",
              "scope.google.colab = scope.google.colab || {};\n",
              "scope.google.colab._files = {\n",
              "  _uploadFiles,\n",
              "  _uploadFilesContinue,\n",
              "};\n",
              "})(self);\n",
              "</script> "
            ]
          },
          "metadata": {}
        },
        {
          "output_type": "stream",
          "name": "stdout",
          "text": [
            "Saving Premier_League_Final_Data.csv to Premier_League_Final_Data.csv\n"
          ]
        }
      ]
    },
    {
      "cell_type": "markdown",
      "source": [
        "### Explore the Dataset:"
      ],
      "metadata": {
        "id": "qISVYTq1nVVY"
      }
    },
    {
      "cell_type": "code",
      "source": [
        "#View the Data -- First 5 rows\n",
        "\n",
        "df.head()"
      ],
      "metadata": {
        "colab": {
          "base_uri": "https://localhost:8080/",
          "height": 206
        },
        "id": "Qm2yj-mjneNg",
        "outputId": "987f91ab-dd9c-4c50-974e-51c372462c20"
      },
      "execution_count": 3,
      "outputs": [
        {
          "output_type": "execute_result",
          "data": {
            "text/plain": [
              "                Club  Matches Played  Win  Loss  Drawn  Goals  Clean Sheets  \\\n",
              "0           1Arsenal            1182  642   252    288   2089           448   \n",
              "1       2Aston Villa            1062  368   399    295   1306           311   \n",
              "2   3Birmingham City             266   73   111     82    273            66   \n",
              "3  4Blackburn Rovers             696  262   250    184    927           210   \n",
              "4  5Bolton Wanderers             494  149   217    128    575           108   \n",
              "\n",
              "  TeamLaunch  Winners Runners-up lastplayed_pl  \n",
              "0       1886      3.0          6        Apr-23  \n",
              "1       1874      0.0          1        Apr-23  \n",
              "2       1875      0.0        NaN        May-11  \n",
              "3       1875      1.0          1        May-12  \n",
              "4       1874      0.0          0        May-12  "
            ],
            "text/html": [
              "\n",
              "  <div id=\"df-0b94b6a5-b33c-4648-ad4a-dece198de26c\">\n",
              "    <div class=\"colab-df-container\">\n",
              "      <div>\n",
              "<style scoped>\n",
              "    .dataframe tbody tr th:only-of-type {\n",
              "        vertical-align: middle;\n",
              "    }\n",
              "\n",
              "    .dataframe tbody tr th {\n",
              "        vertical-align: top;\n",
              "    }\n",
              "\n",
              "    .dataframe thead th {\n",
              "        text-align: right;\n",
              "    }\n",
              "</style>\n",
              "<table border=\"1\" class=\"dataframe\">\n",
              "  <thead>\n",
              "    <tr style=\"text-align: right;\">\n",
              "      <th></th>\n",
              "      <th>Club</th>\n",
              "      <th>Matches Played</th>\n",
              "      <th>Win</th>\n",
              "      <th>Loss</th>\n",
              "      <th>Drawn</th>\n",
              "      <th>Goals</th>\n",
              "      <th>Clean Sheets</th>\n",
              "      <th>TeamLaunch</th>\n",
              "      <th>Winners</th>\n",
              "      <th>Runners-up</th>\n",
              "      <th>lastplayed_pl</th>\n",
              "    </tr>\n",
              "  </thead>\n",
              "  <tbody>\n",
              "    <tr>\n",
              "      <th>0</th>\n",
              "      <td>1Arsenal</td>\n",
              "      <td>1182</td>\n",
              "      <td>642</td>\n",
              "      <td>252</td>\n",
              "      <td>288</td>\n",
              "      <td>2089</td>\n",
              "      <td>448</td>\n",
              "      <td>1886</td>\n",
              "      <td>3.0</td>\n",
              "      <td>6</td>\n",
              "      <td>Apr-23</td>\n",
              "    </tr>\n",
              "    <tr>\n",
              "      <th>1</th>\n",
              "      <td>2Aston Villa</td>\n",
              "      <td>1062</td>\n",
              "      <td>368</td>\n",
              "      <td>399</td>\n",
              "      <td>295</td>\n",
              "      <td>1306</td>\n",
              "      <td>311</td>\n",
              "      <td>1874</td>\n",
              "      <td>0.0</td>\n",
              "      <td>1</td>\n",
              "      <td>Apr-23</td>\n",
              "    </tr>\n",
              "    <tr>\n",
              "      <th>2</th>\n",
              "      <td>3Birmingham City</td>\n",
              "      <td>266</td>\n",
              "      <td>73</td>\n",
              "      <td>111</td>\n",
              "      <td>82</td>\n",
              "      <td>273</td>\n",
              "      <td>66</td>\n",
              "      <td>1875</td>\n",
              "      <td>0.0</td>\n",
              "      <td>NaN</td>\n",
              "      <td>May-11</td>\n",
              "    </tr>\n",
              "    <tr>\n",
              "      <th>3</th>\n",
              "      <td>4Blackburn Rovers</td>\n",
              "      <td>696</td>\n",
              "      <td>262</td>\n",
              "      <td>250</td>\n",
              "      <td>184</td>\n",
              "      <td>927</td>\n",
              "      <td>210</td>\n",
              "      <td>1875</td>\n",
              "      <td>1.0</td>\n",
              "      <td>1</td>\n",
              "      <td>May-12</td>\n",
              "    </tr>\n",
              "    <tr>\n",
              "      <th>4</th>\n",
              "      <td>5Bolton Wanderers</td>\n",
              "      <td>494</td>\n",
              "      <td>149</td>\n",
              "      <td>217</td>\n",
              "      <td>128</td>\n",
              "      <td>575</td>\n",
              "      <td>108</td>\n",
              "      <td>1874</td>\n",
              "      <td>0.0</td>\n",
              "      <td>0</td>\n",
              "      <td>May-12</td>\n",
              "    </tr>\n",
              "  </tbody>\n",
              "</table>\n",
              "</div>\n",
              "      <button class=\"colab-df-convert\" onclick=\"convertToInteractive('df-0b94b6a5-b33c-4648-ad4a-dece198de26c')\"\n",
              "              title=\"Convert this dataframe to an interactive table.\"\n",
              "              style=\"display:none;\">\n",
              "        \n",
              "  <svg xmlns=\"http://www.w3.org/2000/svg\" height=\"24px\"viewBox=\"0 0 24 24\"\n",
              "       width=\"24px\">\n",
              "    <path d=\"M0 0h24v24H0V0z\" fill=\"none\"/>\n",
              "    <path d=\"M18.56 5.44l.94 2.06.94-2.06 2.06-.94-2.06-.94-.94-2.06-.94 2.06-2.06.94zm-11 1L8.5 8.5l.94-2.06 2.06-.94-2.06-.94L8.5 2.5l-.94 2.06-2.06.94zm10 10l.94 2.06.94-2.06 2.06-.94-2.06-.94-.94-2.06-.94 2.06-2.06.94z\"/><path d=\"M17.41 7.96l-1.37-1.37c-.4-.4-.92-.59-1.43-.59-.52 0-1.04.2-1.43.59L10.3 9.45l-7.72 7.72c-.78.78-.78 2.05 0 2.83L4 21.41c.39.39.9.59 1.41.59.51 0 1.02-.2 1.41-.59l7.78-7.78 2.81-2.81c.8-.78.8-2.07 0-2.86zM5.41 20L4 18.59l7.72-7.72 1.47 1.35L5.41 20z\"/>\n",
              "  </svg>\n",
              "      </button>\n",
              "      \n",
              "  <style>\n",
              "    .colab-df-container {\n",
              "      display:flex;\n",
              "      flex-wrap:wrap;\n",
              "      gap: 12px;\n",
              "    }\n",
              "\n",
              "    .colab-df-convert {\n",
              "      background-color: #E8F0FE;\n",
              "      border: none;\n",
              "      border-radius: 50%;\n",
              "      cursor: pointer;\n",
              "      display: none;\n",
              "      fill: #1967D2;\n",
              "      height: 32px;\n",
              "      padding: 0 0 0 0;\n",
              "      width: 32px;\n",
              "    }\n",
              "\n",
              "    .colab-df-convert:hover {\n",
              "      background-color: #E2EBFA;\n",
              "      box-shadow: 0px 1px 2px rgba(60, 64, 67, 0.3), 0px 1px 3px 1px rgba(60, 64, 67, 0.15);\n",
              "      fill: #174EA6;\n",
              "    }\n",
              "\n",
              "    [theme=dark] .colab-df-convert {\n",
              "      background-color: #3B4455;\n",
              "      fill: #D2E3FC;\n",
              "    }\n",
              "\n",
              "    [theme=dark] .colab-df-convert:hover {\n",
              "      background-color: #434B5C;\n",
              "      box-shadow: 0px 1px 3px 1px rgba(0, 0, 0, 0.15);\n",
              "      filter: drop-shadow(0px 1px 2px rgba(0, 0, 0, 0.3));\n",
              "      fill: #FFFFFF;\n",
              "    }\n",
              "  </style>\n",
              "\n",
              "      <script>\n",
              "        const buttonEl =\n",
              "          document.querySelector('#df-0b94b6a5-b33c-4648-ad4a-dece198de26c button.colab-df-convert');\n",
              "        buttonEl.style.display =\n",
              "          google.colab.kernel.accessAllowed ? 'block' : 'none';\n",
              "\n",
              "        async function convertToInteractive(key) {\n",
              "          const element = document.querySelector('#df-0b94b6a5-b33c-4648-ad4a-dece198de26c');\n",
              "          const dataTable =\n",
              "            await google.colab.kernel.invokeFunction('convertToInteractive',\n",
              "                                                     [key], {});\n",
              "          if (!dataTable) return;\n",
              "\n",
              "          const docLinkHtml = 'Like what you see? Visit the ' +\n",
              "            '<a target=\"_blank\" href=https://colab.research.google.com/notebooks/data_table.ipynb>data table notebook</a>'\n",
              "            + ' to learn more about interactive tables.';\n",
              "          element.innerHTML = '';\n",
              "          dataTable['output_type'] = 'display_data';\n",
              "          await google.colab.output.renderOutput(dataTable, element);\n",
              "          const docLink = document.createElement('div');\n",
              "          docLink.innerHTML = docLinkHtml;\n",
              "          element.appendChild(docLink);\n",
              "        }\n",
              "      </script>\n",
              "    </div>\n",
              "  </div>\n",
              "  "
            ]
          },
          "metadata": {},
          "execution_count": 3
        }
      ]
    },
    {
      "cell_type": "markdown",
      "source": [
        "Upon examining the dataset, we note that it consists of 11 columns, with the first column containing the club name and the remaining 10 columns providing information on the club's performance in the Premier League. However, the data is not entirely clean. The club column has numerical values attached to it, likely indicating a serial number, and the runners-up column has null values.\n",
        "\n",
        "Let us further analyze the dataset:"
      ],
      "metadata": {
        "id": "sH5LqeNjn-5g"
      }
    },
    {
      "cell_type": "code",
      "source": [
        "#View the Data --Last 5 rows\n",
        "\n",
        "df.tail()"
      ],
      "metadata": {
        "colab": {
          "base_uri": "https://localhost:8080/",
          "height": 206
        },
        "id": "rGjkpbXjoAMY",
        "outputId": "520ab22a-fb3a-4573-f3c3-7791feff4976"
      },
      "execution_count": 4,
      "outputs": [
        {
          "output_type": "execute_result",
          "data": {
            "text/plain": [
              "                         Club  Matches Played  Win  Loss  Drawn  Goals  \\\n",
              "35     36West Bromwich Albion             494  117   238    139    510   \n",
              "36          37West Ham United            1025  343   423    259   1262   \n",
              "37           38Wigan Athletic             304   85   143     76    316   \n",
              "38  39Wolverhampton Wanderers             334   98   151     85    353   \n",
              "39               40Portsmouth             266   79   122     65    292   \n",
              "\n",
              "    Clean Sheets  TeamLaunch  Winners Runners-up lastplayed_pl  \n",
              "35           107        1878      NaN          0        Apr-18  \n",
              "36           266        1895      NaN          0        Apr-23  \n",
              "37            73        1932      NaN          0        Apr-13  \n",
              "38            75        1877      0.0          0        Apr-23  \n",
              "39            61  April 1898      NaN        NaN        Apr-10  "
            ],
            "text/html": [
              "\n",
              "  <div id=\"df-34e932d0-d0d3-410a-90d8-3764a7cf2388\">\n",
              "    <div class=\"colab-df-container\">\n",
              "      <div>\n",
              "<style scoped>\n",
              "    .dataframe tbody tr th:only-of-type {\n",
              "        vertical-align: middle;\n",
              "    }\n",
              "\n",
              "    .dataframe tbody tr th {\n",
              "        vertical-align: top;\n",
              "    }\n",
              "\n",
              "    .dataframe thead th {\n",
              "        text-align: right;\n",
              "    }\n",
              "</style>\n",
              "<table border=\"1\" class=\"dataframe\">\n",
              "  <thead>\n",
              "    <tr style=\"text-align: right;\">\n",
              "      <th></th>\n",
              "      <th>Club</th>\n",
              "      <th>Matches Played</th>\n",
              "      <th>Win</th>\n",
              "      <th>Loss</th>\n",
              "      <th>Drawn</th>\n",
              "      <th>Goals</th>\n",
              "      <th>Clean Sheets</th>\n",
              "      <th>TeamLaunch</th>\n",
              "      <th>Winners</th>\n",
              "      <th>Runners-up</th>\n",
              "      <th>lastplayed_pl</th>\n",
              "    </tr>\n",
              "  </thead>\n",
              "  <tbody>\n",
              "    <tr>\n",
              "      <th>35</th>\n",
              "      <td>36West Bromwich Albion</td>\n",
              "      <td>494</td>\n",
              "      <td>117</td>\n",
              "      <td>238</td>\n",
              "      <td>139</td>\n",
              "      <td>510</td>\n",
              "      <td>107</td>\n",
              "      <td>1878</td>\n",
              "      <td>NaN</td>\n",
              "      <td>0</td>\n",
              "      <td>Apr-18</td>\n",
              "    </tr>\n",
              "    <tr>\n",
              "      <th>36</th>\n",
              "      <td>37West Ham United</td>\n",
              "      <td>1025</td>\n",
              "      <td>343</td>\n",
              "      <td>423</td>\n",
              "      <td>259</td>\n",
              "      <td>1262</td>\n",
              "      <td>266</td>\n",
              "      <td>1895</td>\n",
              "      <td>NaN</td>\n",
              "      <td>0</td>\n",
              "      <td>Apr-23</td>\n",
              "    </tr>\n",
              "    <tr>\n",
              "      <th>37</th>\n",
              "      <td>38Wigan Athletic</td>\n",
              "      <td>304</td>\n",
              "      <td>85</td>\n",
              "      <td>143</td>\n",
              "      <td>76</td>\n",
              "      <td>316</td>\n",
              "      <td>73</td>\n",
              "      <td>1932</td>\n",
              "      <td>NaN</td>\n",
              "      <td>0</td>\n",
              "      <td>Apr-13</td>\n",
              "    </tr>\n",
              "    <tr>\n",
              "      <th>38</th>\n",
              "      <td>39Wolverhampton Wanderers</td>\n",
              "      <td>334</td>\n",
              "      <td>98</td>\n",
              "      <td>151</td>\n",
              "      <td>85</td>\n",
              "      <td>353</td>\n",
              "      <td>75</td>\n",
              "      <td>1877</td>\n",
              "      <td>0.0</td>\n",
              "      <td>0</td>\n",
              "      <td>Apr-23</td>\n",
              "    </tr>\n",
              "    <tr>\n",
              "      <th>39</th>\n",
              "      <td>40Portsmouth</td>\n",
              "      <td>266</td>\n",
              "      <td>79</td>\n",
              "      <td>122</td>\n",
              "      <td>65</td>\n",
              "      <td>292</td>\n",
              "      <td>61</td>\n",
              "      <td>April 1898</td>\n",
              "      <td>NaN</td>\n",
              "      <td>NaN</td>\n",
              "      <td>Apr-10</td>\n",
              "    </tr>\n",
              "  </tbody>\n",
              "</table>\n",
              "</div>\n",
              "      <button class=\"colab-df-convert\" onclick=\"convertToInteractive('df-34e932d0-d0d3-410a-90d8-3764a7cf2388')\"\n",
              "              title=\"Convert this dataframe to an interactive table.\"\n",
              "              style=\"display:none;\">\n",
              "        \n",
              "  <svg xmlns=\"http://www.w3.org/2000/svg\" height=\"24px\"viewBox=\"0 0 24 24\"\n",
              "       width=\"24px\">\n",
              "    <path d=\"M0 0h24v24H0V0z\" fill=\"none\"/>\n",
              "    <path d=\"M18.56 5.44l.94 2.06.94-2.06 2.06-.94-2.06-.94-.94-2.06-.94 2.06-2.06.94zm-11 1L8.5 8.5l.94-2.06 2.06-.94-2.06-.94L8.5 2.5l-.94 2.06-2.06.94zm10 10l.94 2.06.94-2.06 2.06-.94-2.06-.94-.94-2.06-.94 2.06-2.06.94z\"/><path d=\"M17.41 7.96l-1.37-1.37c-.4-.4-.92-.59-1.43-.59-.52 0-1.04.2-1.43.59L10.3 9.45l-7.72 7.72c-.78.78-.78 2.05 0 2.83L4 21.41c.39.39.9.59 1.41.59.51 0 1.02-.2 1.41-.59l7.78-7.78 2.81-2.81c.8-.78.8-2.07 0-2.86zM5.41 20L4 18.59l7.72-7.72 1.47 1.35L5.41 20z\"/>\n",
              "  </svg>\n",
              "      </button>\n",
              "      \n",
              "  <style>\n",
              "    .colab-df-container {\n",
              "      display:flex;\n",
              "      flex-wrap:wrap;\n",
              "      gap: 12px;\n",
              "    }\n",
              "\n",
              "    .colab-df-convert {\n",
              "      background-color: #E8F0FE;\n",
              "      border: none;\n",
              "      border-radius: 50%;\n",
              "      cursor: pointer;\n",
              "      display: none;\n",
              "      fill: #1967D2;\n",
              "      height: 32px;\n",
              "      padding: 0 0 0 0;\n",
              "      width: 32px;\n",
              "    }\n",
              "\n",
              "    .colab-df-convert:hover {\n",
              "      background-color: #E2EBFA;\n",
              "      box-shadow: 0px 1px 2px rgba(60, 64, 67, 0.3), 0px 1px 3px 1px rgba(60, 64, 67, 0.15);\n",
              "      fill: #174EA6;\n",
              "    }\n",
              "\n",
              "    [theme=dark] .colab-df-convert {\n",
              "      background-color: #3B4455;\n",
              "      fill: #D2E3FC;\n",
              "    }\n",
              "\n",
              "    [theme=dark] .colab-df-convert:hover {\n",
              "      background-color: #434B5C;\n",
              "      box-shadow: 0px 1px 3px 1px rgba(0, 0, 0, 0.15);\n",
              "      filter: drop-shadow(0px 1px 2px rgba(0, 0, 0, 0.3));\n",
              "      fill: #FFFFFF;\n",
              "    }\n",
              "  </style>\n",
              "\n",
              "      <script>\n",
              "        const buttonEl =\n",
              "          document.querySelector('#df-34e932d0-d0d3-410a-90d8-3764a7cf2388 button.colab-df-convert');\n",
              "        buttonEl.style.display =\n",
              "          google.colab.kernel.accessAllowed ? 'block' : 'none';\n",
              "\n",
              "        async function convertToInteractive(key) {\n",
              "          const element = document.querySelector('#df-34e932d0-d0d3-410a-90d8-3764a7cf2388');\n",
              "          const dataTable =\n",
              "            await google.colab.kernel.invokeFunction('convertToInteractive',\n",
              "                                                     [key], {});\n",
              "          if (!dataTable) return;\n",
              "\n",
              "          const docLinkHtml = 'Like what you see? Visit the ' +\n",
              "            '<a target=\"_blank\" href=https://colab.research.google.com/notebooks/data_table.ipynb>data table notebook</a>'\n",
              "            + ' to learn more about interactive tables.';\n",
              "          element.innerHTML = '';\n",
              "          dataTable['output_type'] = 'display_data';\n",
              "          await google.colab.output.renderOutput(dataTable, element);\n",
              "          const docLink = document.createElement('div');\n",
              "          docLink.innerHTML = docLinkHtml;\n",
              "          element.appendChild(docLink);\n",
              "        }\n",
              "      </script>\n",
              "    </div>\n",
              "  </div>\n",
              "  "
            ]
          },
          "metadata": {},
          "execution_count": 4
        }
      ]
    },
    {
      "cell_type": "markdown",
      "source": [
        "We notice inconsistencies in the TeamLaunch column. While most clubs have a year mentioned, one club has a month & year mentioned instead. This inconsistency may cause problems in the analysis, and the column should be cleaned. Furthermore, we observe that there are null values in the Winners column."
      ],
      "metadata": {
        "id": "IWElPOY7oPko"
      }
    },
    {
      "cell_type": "code",
      "source": [
        "#Size of Dataset\n",
        "\n",
        "df.shape"
      ],
      "metadata": {
        "colab": {
          "base_uri": "https://localhost:8080/"
        },
        "id": "-S7O8RXioTTR",
        "outputId": "c26950ba-de19-4f36-fda8-e64ff1a2ae2c"
      },
      "execution_count": 5,
      "outputs": [
        {
          "output_type": "execute_result",
          "data": {
            "text/plain": [
              "(40, 11)"
            ]
          },
          "metadata": {},
          "execution_count": 5
        }
      ]
    },
    {
      "cell_type": "markdown",
      "source": [
        "There are 40 rows and 11 columns"
      ],
      "metadata": {
        "id": "JGsg8CnIobhP"
      }
    },
    {
      "cell_type": "code",
      "source": [
        "#Get more info about Datatypes and null values in Data\n",
        "\n",
        "df.info()"
      ],
      "metadata": {
        "colab": {
          "base_uri": "https://localhost:8080/"
        },
        "id": "7gg9lWFpofnP",
        "outputId": "c1f7f067-428f-4864-cd96-49395dcb81c6"
      },
      "execution_count": 6,
      "outputs": [
        {
          "output_type": "stream",
          "name": "stdout",
          "text": [
            "<class 'pandas.core.frame.DataFrame'>\n",
            "RangeIndex: 40 entries, 0 to 39\n",
            "Data columns (total 11 columns):\n",
            " #   Column          Non-Null Count  Dtype  \n",
            "---  ------          --------------  -----  \n",
            " 0   Club            40 non-null     object \n",
            " 1   Matches Played  40 non-null     int64  \n",
            " 2   Win             40 non-null     int64  \n",
            " 3   Loss            40 non-null     int64  \n",
            " 4   Drawn           40 non-null     int64  \n",
            " 5   Goals           40 non-null     int64  \n",
            " 6   Clean Sheets    40 non-null     int64  \n",
            " 7   TeamLaunch      40 non-null     object \n",
            " 8   Winners         25 non-null     float64\n",
            " 9   Runners-up      22 non-null     object \n",
            " 10  lastplayed_pl   40 non-null     object \n",
            "dtypes: float64(1), int64(6), object(4)\n",
            "memory usage: 3.6+ KB\n"
          ]
        }
      ]
    },
    {
      "cell_type": "markdown",
      "source": [
        "There are 40 non-null values in each column, indicating that there are no missing values. However, there are null values in the 'Winners' and 'Runners-up' columns as observed earlier.\n",
        "\n",
        "We also notice that the data type for the \"Runners-up\" column is non-numeric (i.e., object type). To perform any numerical analysis on this column, we will need to convert it to a numeric data type."
      ],
      "metadata": {
        "id": "DcnF8nJno1dv"
      }
    },
    {
      "cell_type": "markdown",
      "source": [
        "### Cleaning of Dataset"
      ],
      "metadata": {
        "id": "5dtElFlEo7mP"
      }
    },
    {
      "cell_type": "code",
      "source": [
        "# let satrt with club column\n",
        "\n",
        "df['Club']=df['Club'].str.replace('\\d+','')\n",
        "#'\\d+' is a regular expression pattern that matches one or more digit at begining and replace it with empty string\n",
        "#We are removing prefix digit from club name column"
      ],
      "metadata": {
        "colab": {
          "base_uri": "https://localhost:8080/"
        },
        "id": "W10UwSPpo-qQ",
        "outputId": "7a8b0e6f-00b4-45e6-8dcf-4296462db621"
      },
      "execution_count": 9,
      "outputs": [
        {
          "output_type": "stream",
          "name": "stderr",
          "text": [
            "<ipython-input-9-cbbed69871dc>:3: FutureWarning: The default value of regex will change from True to False in a future version.\n",
            "  df['Club']=df['Club'].str.replace('\\d+','')\n"
          ]
        }
      ]
    },
    {
      "cell_type": "code",
      "source": [
        "# View data\n",
        "\n",
        "df.head()"
      ],
      "metadata": {
        "colab": {
          "base_uri": "https://localhost:8080/",
          "height": 206
        },
        "id": "vXMlvqlNqZMg",
        "outputId": "2ed93625-bc7d-4cc2-9e2e-aaf875ed6b4d"
      },
      "execution_count": 10,
      "outputs": [
        {
          "output_type": "execute_result",
          "data": {
            "text/plain": [
              "               Club  Matches Played  Win  Loss  Drawn  Goals  Clean Sheets  \\\n",
              "0           Arsenal            1182  642   252    288   2089           448   \n",
              "1       Aston Villa            1062  368   399    295   1306           311   \n",
              "2   Birmingham City             266   73   111     82    273            66   \n",
              "3  Blackburn Rovers             696  262   250    184    927           210   \n",
              "4  Bolton Wanderers             494  149   217    128    575           108   \n",
              "\n",
              "  TeamLaunch  Winners Runners-up lastplayed_pl  \n",
              "0       1886      3.0          6        Apr-23  \n",
              "1       1874      0.0          1        Apr-23  \n",
              "2       1875      0.0        NaN        May-11  \n",
              "3       1875      1.0          1        May-12  \n",
              "4       1874      0.0          0        May-12  "
            ],
            "text/html": [
              "\n",
              "  <div id=\"df-57c25124-9383-48fa-858b-d59df2ebe37e\">\n",
              "    <div class=\"colab-df-container\">\n",
              "      <div>\n",
              "<style scoped>\n",
              "    .dataframe tbody tr th:only-of-type {\n",
              "        vertical-align: middle;\n",
              "    }\n",
              "\n",
              "    .dataframe tbody tr th {\n",
              "        vertical-align: top;\n",
              "    }\n",
              "\n",
              "    .dataframe thead th {\n",
              "        text-align: right;\n",
              "    }\n",
              "</style>\n",
              "<table border=\"1\" class=\"dataframe\">\n",
              "  <thead>\n",
              "    <tr style=\"text-align: right;\">\n",
              "      <th></th>\n",
              "      <th>Club</th>\n",
              "      <th>Matches Played</th>\n",
              "      <th>Win</th>\n",
              "      <th>Loss</th>\n",
              "      <th>Drawn</th>\n",
              "      <th>Goals</th>\n",
              "      <th>Clean Sheets</th>\n",
              "      <th>TeamLaunch</th>\n",
              "      <th>Winners</th>\n",
              "      <th>Runners-up</th>\n",
              "      <th>lastplayed_pl</th>\n",
              "    </tr>\n",
              "  </thead>\n",
              "  <tbody>\n",
              "    <tr>\n",
              "      <th>0</th>\n",
              "      <td>Arsenal</td>\n",
              "      <td>1182</td>\n",
              "      <td>642</td>\n",
              "      <td>252</td>\n",
              "      <td>288</td>\n",
              "      <td>2089</td>\n",
              "      <td>448</td>\n",
              "      <td>1886</td>\n",
              "      <td>3.0</td>\n",
              "      <td>6</td>\n",
              "      <td>Apr-23</td>\n",
              "    </tr>\n",
              "    <tr>\n",
              "      <th>1</th>\n",
              "      <td>Aston Villa</td>\n",
              "      <td>1062</td>\n",
              "      <td>368</td>\n",
              "      <td>399</td>\n",
              "      <td>295</td>\n",
              "      <td>1306</td>\n",
              "      <td>311</td>\n",
              "      <td>1874</td>\n",
              "      <td>0.0</td>\n",
              "      <td>1</td>\n",
              "      <td>Apr-23</td>\n",
              "    </tr>\n",
              "    <tr>\n",
              "      <th>2</th>\n",
              "      <td>Birmingham City</td>\n",
              "      <td>266</td>\n",
              "      <td>73</td>\n",
              "      <td>111</td>\n",
              "      <td>82</td>\n",
              "      <td>273</td>\n",
              "      <td>66</td>\n",
              "      <td>1875</td>\n",
              "      <td>0.0</td>\n",
              "      <td>NaN</td>\n",
              "      <td>May-11</td>\n",
              "    </tr>\n",
              "    <tr>\n",
              "      <th>3</th>\n",
              "      <td>Blackburn Rovers</td>\n",
              "      <td>696</td>\n",
              "      <td>262</td>\n",
              "      <td>250</td>\n",
              "      <td>184</td>\n",
              "      <td>927</td>\n",
              "      <td>210</td>\n",
              "      <td>1875</td>\n",
              "      <td>1.0</td>\n",
              "      <td>1</td>\n",
              "      <td>May-12</td>\n",
              "    </tr>\n",
              "    <tr>\n",
              "      <th>4</th>\n",
              "      <td>Bolton Wanderers</td>\n",
              "      <td>494</td>\n",
              "      <td>149</td>\n",
              "      <td>217</td>\n",
              "      <td>128</td>\n",
              "      <td>575</td>\n",
              "      <td>108</td>\n",
              "      <td>1874</td>\n",
              "      <td>0.0</td>\n",
              "      <td>0</td>\n",
              "      <td>May-12</td>\n",
              "    </tr>\n",
              "  </tbody>\n",
              "</table>\n",
              "</div>\n",
              "      <button class=\"colab-df-convert\" onclick=\"convertToInteractive('df-57c25124-9383-48fa-858b-d59df2ebe37e')\"\n",
              "              title=\"Convert this dataframe to an interactive table.\"\n",
              "              style=\"display:none;\">\n",
              "        \n",
              "  <svg xmlns=\"http://www.w3.org/2000/svg\" height=\"24px\"viewBox=\"0 0 24 24\"\n",
              "       width=\"24px\">\n",
              "    <path d=\"M0 0h24v24H0V0z\" fill=\"none\"/>\n",
              "    <path d=\"M18.56 5.44l.94 2.06.94-2.06 2.06-.94-2.06-.94-.94-2.06-.94 2.06-2.06.94zm-11 1L8.5 8.5l.94-2.06 2.06-.94-2.06-.94L8.5 2.5l-.94 2.06-2.06.94zm10 10l.94 2.06.94-2.06 2.06-.94-2.06-.94-.94-2.06-.94 2.06-2.06.94z\"/><path d=\"M17.41 7.96l-1.37-1.37c-.4-.4-.92-.59-1.43-.59-.52 0-1.04.2-1.43.59L10.3 9.45l-7.72 7.72c-.78.78-.78 2.05 0 2.83L4 21.41c.39.39.9.59 1.41.59.51 0 1.02-.2 1.41-.59l7.78-7.78 2.81-2.81c.8-.78.8-2.07 0-2.86zM5.41 20L4 18.59l7.72-7.72 1.47 1.35L5.41 20z\"/>\n",
              "  </svg>\n",
              "      </button>\n",
              "      \n",
              "  <style>\n",
              "    .colab-df-container {\n",
              "      display:flex;\n",
              "      flex-wrap:wrap;\n",
              "      gap: 12px;\n",
              "    }\n",
              "\n",
              "    .colab-df-convert {\n",
              "      background-color: #E8F0FE;\n",
              "      border: none;\n",
              "      border-radius: 50%;\n",
              "      cursor: pointer;\n",
              "      display: none;\n",
              "      fill: #1967D2;\n",
              "      height: 32px;\n",
              "      padding: 0 0 0 0;\n",
              "      width: 32px;\n",
              "    }\n",
              "\n",
              "    .colab-df-convert:hover {\n",
              "      background-color: #E2EBFA;\n",
              "      box-shadow: 0px 1px 2px rgba(60, 64, 67, 0.3), 0px 1px 3px 1px rgba(60, 64, 67, 0.15);\n",
              "      fill: #174EA6;\n",
              "    }\n",
              "\n",
              "    [theme=dark] .colab-df-convert {\n",
              "      background-color: #3B4455;\n",
              "      fill: #D2E3FC;\n",
              "    }\n",
              "\n",
              "    [theme=dark] .colab-df-convert:hover {\n",
              "      background-color: #434B5C;\n",
              "      box-shadow: 0px 1px 3px 1px rgba(0, 0, 0, 0.15);\n",
              "      filter: drop-shadow(0px 1px 2px rgba(0, 0, 0, 0.3));\n",
              "      fill: #FFFFFF;\n",
              "    }\n",
              "  </style>\n",
              "\n",
              "      <script>\n",
              "        const buttonEl =\n",
              "          document.querySelector('#df-57c25124-9383-48fa-858b-d59df2ebe37e button.colab-df-convert');\n",
              "        buttonEl.style.display =\n",
              "          google.colab.kernel.accessAllowed ? 'block' : 'none';\n",
              "\n",
              "        async function convertToInteractive(key) {\n",
              "          const element = document.querySelector('#df-57c25124-9383-48fa-858b-d59df2ebe37e');\n",
              "          const dataTable =\n",
              "            await google.colab.kernel.invokeFunction('convertToInteractive',\n",
              "                                                     [key], {});\n",
              "          if (!dataTable) return;\n",
              "\n",
              "          const docLinkHtml = 'Like what you see? Visit the ' +\n",
              "            '<a target=\"_blank\" href=https://colab.research.google.com/notebooks/data_table.ipynb>data table notebook</a>'\n",
              "            + ' to learn more about interactive tables.';\n",
              "          element.innerHTML = '';\n",
              "          dataTable['output_type'] = 'display_data';\n",
              "          await google.colab.output.renderOutput(dataTable, element);\n",
              "          const docLink = document.createElement('div');\n",
              "          docLink.innerHTML = docLinkHtml;\n",
              "          element.appendChild(docLink);\n",
              "        }\n",
              "      </script>\n",
              "    </div>\n",
              "  </div>\n",
              "  "
            ]
          },
          "metadata": {},
          "execution_count": 10
        }
      ]
    },
    {
      "cell_type": "markdown",
      "source": [
        "Now that the numbers have been removed from the front of each club name in the Club column, it has been cleaned and is ready to be used for analysis"
      ],
      "metadata": {
        "id": "JtXGZzZlqsRB"
      }
    },
    {
      "cell_type": "code",
      "source": [
        "df['Winners'].isnull()"
      ],
      "metadata": {
        "colab": {
          "base_uri": "https://localhost:8080/"
        },
        "id": "OAK4cFKiqtKh",
        "outputId": "875e777c-b3fe-47d1-8fe0-37774a72c228"
      },
      "execution_count": 11,
      "outputs": [
        {
          "output_type": "execute_result",
          "data": {
            "text/plain": [
              "0     False\n",
              "1     False\n",
              "2     False\n",
              "3     False\n",
              "4     False\n",
              "5     False\n",
              "6     False\n",
              "7     False\n",
              "8     False\n",
              "9     False\n",
              "10    False\n",
              "11    False\n",
              "12    False\n",
              "13    False\n",
              "14    False\n",
              "15    False\n",
              "16    False\n",
              "17    False\n",
              "18    False\n",
              "19    False\n",
              "20    False\n",
              "21    False\n",
              "22    False\n",
              "23    False\n",
              "24     True\n",
              "25     True\n",
              "26     True\n",
              "27     True\n",
              "28     True\n",
              "29     True\n",
              "30     True\n",
              "31     True\n",
              "32     True\n",
              "33     True\n",
              "34     True\n",
              "35     True\n",
              "36     True\n",
              "37     True\n",
              "38    False\n",
              "39     True\n",
              "Name: Winners, dtype: bool"
            ]
          },
          "metadata": {},
          "execution_count": 11
        }
      ]
    },
    {
      "cell_type": "code",
      "source": [
        "# Next, let us look at \"Winners\" column. Check if there is null value in a alternative way\n",
        "df[\"Winners\"].isnull().any()\n",
        "\n",
        "# In this code, the isnull() method is called on the \"Winners\" column of the DataFrame.\n",
        "# isnull() returns a boolean Series where each element indicates whether the corresponding value in the column is null (True) or not (False).\n",
        "# The any() method is then used to check if there is at least one True value in the Series, indicating the presence of null values in the \"Winners\" column."
      ],
      "metadata": {
        "id": "4W_5i2MBq95J"
      },
      "execution_count": null,
      "outputs": []
    },
    {
      "cell_type": "code",
      "source": [
        "df['Winners'].value_counts()\n",
        "\n",
        "# The code returns the count of unique values in the \"Winners\" column and the number of times each value occurs."
      ],
      "metadata": {
        "colab": {
          "base_uri": "https://localhost:8080/"
        },
        "id": "lAs0gOrFrB2B",
        "outputId": "c5b40474-4839-418d-ee22-0f9ebd7c96b0"
      },
      "execution_count": 12,
      "outputs": [
        {
          "output_type": "execute_result",
          "data": {
            "text/plain": [
              "0.0     18\n",
              "1.0      3\n",
              "3.0      1\n",
              "5.0      1\n",
              "6.0      1\n",
              "13.0     1\n",
              "Name: Winners, dtype: int64"
            ]
          },
          "metadata": {},
          "execution_count": 12
        }
      ]
    },
    {
      "cell_type": "markdown",
      "source": [
        "Upon inspecting the dataset, it can be observed that there are a total of 25 non-null values. Furthermore, it is noteworthy that out of the 18 football clubs listed, none of them have won the Premier League title, as the \"Winners\" column displays a count of 0 for each club.\n",
        "\n",
        "After looking at the counts, it has been determined that there have been a total of 30 Premier League tournaments held in the past (1992-2022 per year one tournament). Out of the 25 football clubs (Non zero non nulls in winner columns) listed in the dataset, 3 clubs have won the Premier League title once, 1 club has won it thrice, 1 club has won it 5 times, another club has won it 6 times, and 1 club has won it a remarkable 13 times, totaling to 30 victories.\n",
        "\n",
        "This implies that all other clubs in the dataset have not won any Premier League matches. Therefore, it would be appropriate to update the \"Winners\" column by replacing the null values with 0, as these clubs have not won the Premier League title. This data cleaning step will ensure that the dataset accurately reflects the historical performance of each club in terms of Premier League wins."
      ],
      "metadata": {
        "id": "ac5quMHwrWOI"
      }
    },
    {
      "cell_type": "code",
      "source": [
        "#Replace null values with 0 in the \"Winners\" columns\n",
        "\n",
        "df['Winners'].fillna(0 ,inplace=True)\n",
        "\n",
        "# .fillna(0, inplace=True) This is a method in pandas that is used to fill missing (null) values in a Series or DataFrame.\n",
        "# In this case, it is applied to the \"Winners\" column of the DataFrame df to fill any null values with the value 0."
      ],
      "metadata": {
        "id": "-zN-zz1brXsY"
      },
      "execution_count": 13,
      "outputs": []
    },
    {
      "cell_type": "code",
      "source": [
        "# Check for null values in the \"Winners\" column after data cleaning\n",
        "df[\"Winners\"].isnull().any()"
      ],
      "metadata": {
        "colab": {
          "base_uri": "https://localhost:8080/"
        },
        "id": "k_JgfqsorxOB",
        "outputId": "61f3f88d-2122-4ca0-c5a3-275bb2114ea6"
      },
      "execution_count": 14,
      "outputs": [
        {
          "output_type": "execute_result",
          "data": {
            "text/plain": [
              "False"
            ]
          },
          "metadata": {},
          "execution_count": 14
        }
      ]
    },
    {
      "cell_type": "code",
      "source": [
        "#We will look null values in 'Runnerup' columns\n",
        "\n",
        "df['Runners-up'].isnull().any()"
      ],
      "metadata": {
        "colab": {
          "base_uri": "https://localhost:8080/"
        },
        "id": "hIxwrjCRr1CB",
        "outputId": "aeb906a0-6f98-4b8e-dab2-b23b23429129"
      },
      "execution_count": 15,
      "outputs": [
        {
          "output_type": "execute_result",
          "data": {
            "text/plain": [
              "True"
            ]
          },
          "metadata": {},
          "execution_count": 15
        }
      ]
    },
    {
      "cell_type": "code",
      "source": [
        "# Next, let is look at Runners-up, As seen earlier even this column has Null value\n",
        "\n",
        "df['Runners-up'].value_counts()"
      ],
      "metadata": {
        "colab": {
          "base_uri": "https://localhost:8080/"
        },
        "id": "oWoIWdYmsSlA",
        "outputId": "725104b3-a937-44c7-9bd2-5d265456ab94"
      },
      "execution_count": 16,
      "outputs": [
        {
          "output_type": "execute_result",
          "data": {
            "text/plain": [
              "0    10\n",
              "1     3\n",
              "-     3\n",
              "6     1\n",
              "4     1\n",
              "5     1\n",
              "3     1\n",
              "7     1\n",
              "2     1\n",
              "Name: Runners-up, dtype: int64"
            ]
          },
          "metadata": {},
          "execution_count": 16
        }
      ]
    },
    {
      "cell_type": "markdown",
      "source": [
        "Teams have different numbers of runner-up finishes. One team has finished as runner-up 7 times, another 6 times, one team 5 times, another 4 times, another 3 times, one team 2 times and three teams have finished as runner-up once each.\n",
        "We also notice some inconsistency in data,this column particularly has null values, 0's and '-' We need to clean"
      ],
      "metadata": {
        "id": "bzTwPLAosavy"
      }
    },
    {
      "cell_type": "code",
      "source": [
        "# Since we know the no. of times Premier League was conducted is 30 and we have data for all we will convert the null & '-' to 0 for all other clubs\n",
        "\n",
        "# replace '-' and null values with zero\n",
        "df['Runners-up'].fillna(0,inplace=True)\n",
        "df['Runners-up'].replace('-',0,inplace=True)\n",
        "\n",
        "# replace() method is used to replace the \"-\" values with zero. The inplace=True argument is used to modify the original dataframe."
      ],
      "metadata": {
        "id": "kjYexgjVsomA"
      },
      "execution_count": 18,
      "outputs": []
    },
    {
      "cell_type": "code",
      "source": [
        "# Also we have seen it earlier that 'Runners-up' column is \"Object\" type let us convert it into int type\n",
        "df['Runners-up']=pd.to_numeric(df['Runners-up'],errors='coerce')\n",
        "df['Runners-up']=df['Runners-up'].astype('Int64')"
      ],
      "metadata": {
        "id": "vwfi79UwtJDZ"
      },
      "execution_count": 20,
      "outputs": []
    },
    {
      "cell_type": "markdown",
      "source": [
        "This code is converting the \"Runners-up\" column in a pandas DataFrame, df, from an \"Object\" data type to an \"Int64\" data type.\n",
        "\n",
        "The first line uses the pd.to_numeric() function to attempt to convert the \"Runners-up\" column to a numeric data type. The errors='coerce' argument tells the function to replace any values that cannot be converted to a number with NaN.\n",
        "\n",
        "The second line uses the .astype() method to convert the \"Runners-up\" column to an \"Int64\" data type. The .astype() method is called on the \"Runners-up\" column of the DataFrame, and the argument \"Int64\" specifies the desired data type."
      ],
      "metadata": {
        "id": "oPj5BX-Xt-Dc"
      }
    },
    {
      "cell_type": "code",
      "source": [
        "# Check the datatype\n",
        "\n",
        "df.info()"
      ],
      "metadata": {
        "colab": {
          "base_uri": "https://localhost:8080/"
        },
        "id": "3gBgtuoqt-x6",
        "outputId": "6715c216-f14f-47b8-81fc-6cd1e074d8a1"
      },
      "execution_count": 21,
      "outputs": [
        {
          "output_type": "stream",
          "name": "stdout",
          "text": [
            "<class 'pandas.core.frame.DataFrame'>\n",
            "RangeIndex: 40 entries, 0 to 39\n",
            "Data columns (total 11 columns):\n",
            " #   Column          Non-Null Count  Dtype  \n",
            "---  ------          --------------  -----  \n",
            " 0   Club            40 non-null     object \n",
            " 1   Matches Played  40 non-null     int64  \n",
            " 2   Win             40 non-null     int64  \n",
            " 3   Loss            40 non-null     int64  \n",
            " 4   Drawn           40 non-null     int64  \n",
            " 5   Goals           40 non-null     int64  \n",
            " 6   Clean Sheets    40 non-null     int64  \n",
            " 7   TeamLaunch      40 non-null     object \n",
            " 8   Winners         40 non-null     float64\n",
            " 9   Runners-up      40 non-null     Int64  \n",
            " 10  lastplayed_pl   40 non-null     object \n",
            "dtypes: Int64(1), float64(1), int64(6), object(3)\n",
            "memory usage: 3.6+ KB\n"
          ]
        }
      ]
    },
    {
      "cell_type": "markdown",
      "source": [
        "Now the runners up column is successfully converted to Integer."
      ],
      "metadata": {
        "id": "nHaZXxAFuF14"
      }
    },
    {
      "cell_type": "code",
      "source": [
        "# We also observed TeamLaunch column has data inconsistency\n",
        "\n",
        "df['TeamLaunch'].value_counts()"
      ],
      "metadata": {
        "colab": {
          "base_uri": "https://localhost:8080/"
        },
        "id": "_4ubfPM5uGYC",
        "outputId": "5c7da925-1671-4b59-dcf9-324bee60050c"
      },
      "execution_count": 22,
      "outputs": [
        {
          "output_type": "execute_result",
          "data": {
            "text/plain": [
              "1878           3\n",
              "1886           2\n",
              "1905           2\n",
              "1874           2\n",
              "1892           2\n",
              "1879           2\n",
              "1884           2\n",
              "1882           2\n",
              "1875           2\n",
              "1895           1\n",
              "1881           1\n",
              "1904           1\n",
              "1932           1\n",
              "1912           1\n",
              "1863           1\n",
              "1877           1\n",
              "1885           1\n",
              "1867           1\n",
              "1889           1\n",
              "1894           1\n",
              "1865           1\n",
              "1902           1\n",
              "1876           1\n",
              "1919           1\n",
              "16 Oct 1878    1\n",
              "1861           1\n",
              "Aug 1883       1\n",
              "1901           1\n",
              "1899           1\n",
              "April 1898     1\n",
              "Name: TeamLaunch, dtype: int64"
            ]
          },
          "metadata": {},
          "execution_count": 22
        }
      ]
    },
    {
      "cell_type": "code",
      "source": [
        "# We need to convert the 'TeamLaunch' into 'YYYY'\n",
        "\n",
        "# convert the column to datetime format\n",
        "df['TeamLaunch']=pd.to_datetime(df['TeamLaunch'],errors='coerce')\n",
        "\n",
        "# convert the column to YYYY format\n",
        "df['TeamLaunch']=df['TeamLaunch'].dt.strftime('%Y')"
      ],
      "metadata": {
        "id": "fZRyn3QRureB"
      },
      "execution_count": 23,
      "outputs": []
    },
    {
      "cell_type": "markdown",
      "source": [
        "The first line of code converts the column 'column_name' to datetime format using the pandas to_datetime() function. The 'errors' parameter is set to 'coerce', which means that any invalid dates will be set to NaT (Not a Time) in the resulting datetime column.\n",
        "\n",
        "The second line of code uses the dt.strftime() method to convert the datetime column to a string column with only the year values. '%Y' is the format code for the year. This line of code will create a new column 'column_name' in the format YYYY."
      ],
      "metadata": {
        "id": "_9V6t84CvQlB"
      }
    },
    {
      "cell_type": "code",
      "source": [
        "#Check 'TeamLaunch' columns\n",
        "\n",
        "df['TeamLaunch'].value_counts()"
      ],
      "metadata": {
        "colab": {
          "base_uri": "https://localhost:8080/"
        },
        "id": "5bXbfwwwvTAt",
        "outputId": "676e586b-b467-4f77-9c10-49463c8fa9a5"
      },
      "execution_count": 24,
      "outputs": [
        {
          "output_type": "execute_result",
          "data": {
            "text/plain": [
              "1878    4\n",
              "1886    2\n",
              "1905    2\n",
              "1874    2\n",
              "1892    2\n",
              "1879    2\n",
              "1884    2\n",
              "1882    2\n",
              "1875    2\n",
              "1895    1\n",
              "1881    1\n",
              "1889    1\n",
              "1932    1\n",
              "1912    1\n",
              "1877    1\n",
              "1863    1\n",
              "1885    1\n",
              "1867    1\n",
              "1894    1\n",
              "1904    1\n",
              "1865    1\n",
              "1902    1\n",
              "1876    1\n",
              "1919    1\n",
              "1861    1\n",
              "1883    1\n",
              "1901    1\n",
              "1899    1\n",
              "1898    1\n",
              "Name: TeamLaunch, dtype: int64"
            ]
          },
          "metadata": {},
          "execution_count": 24
        }
      ]
    },
    {
      "cell_type": "code",
      "source": [
        "# Let us explore column 'lastplayed_pl'\n",
        "df.dtypes['lastplayed_pl']"
      ],
      "metadata": {
        "colab": {
          "base_uri": "https://localhost:8080/"
        },
        "id": "VIapOOvivf4R",
        "outputId": "5d29de76-b519-4e18-c94f-33981e5b6db7"
      },
      "execution_count": 25,
      "outputs": [
        {
          "output_type": "execute_result",
          "data": {
            "text/plain": [
              "dtype('O')"
            ]
          },
          "metadata": {},
          "execution_count": 25
        }
      ]
    },
    {
      "cell_type": "code",
      "source": [
        "# Let us extract only the year in lastplayed_pl column\n",
        "df['lastplayed_pl']=(pd.to_datetime(df['lastplayed_pl'],format='%b-%y',errors='coerce')).dt.year\n",
        "\n",
        "#The \"format\" parameter specifies the expected format of the input string.\n",
        "#In this case '%b-%y' which indicates a three-letter month abbreviation followed by a two-digit year (e.g. \"Mar-21\")."
      ],
      "metadata": {
        "id": "gFQBscluvj8a"
      },
      "execution_count": 26,
      "outputs": []
    },
    {
      "cell_type": "code",
      "source": [
        "df['lastplayed_pl']"
      ],
      "metadata": {
        "colab": {
          "base_uri": "https://localhost:8080/"
        },
        "id": "yoLVMv4gwbqS",
        "outputId": "684b148d-fe0f-4625-e3d8-cd557833c324"
      },
      "execution_count": 27,
      "outputs": [
        {
          "output_type": "execute_result",
          "data": {
            "text/plain": [
              "0     2023\n",
              "1     2023\n",
              "2     2011\n",
              "3     2012\n",
              "4     2012\n",
              "5     2023\n",
              "6     2023\n",
              "7     2022\n",
              "8     2007\n",
              "9     2023\n",
              "10    2001\n",
              "11    2023\n",
              "12    2008\n",
              "13    2023\n",
              "14    2023\n",
              "15    2002\n",
              "16    2023\n",
              "17    2023\n",
              "18    2023\n",
              "19    2023\n",
              "20    2023\n",
              "21    2017\n",
              "22    2023\n",
              "23    2022\n",
              "24    2023\n",
              "25    2017\n",
              "26    2015\n",
              "27    2021\n",
              "28    2000\n",
              "29    2023\n",
              "30    2018\n",
              "31    2017\n",
              "32    2018\n",
              "33    2023\n",
              "34    2022\n",
              "35    2018\n",
              "36    2023\n",
              "37    2013\n",
              "38    2023\n",
              "39    2010\n",
              "Name: lastplayed_pl, dtype: int64"
            ]
          },
          "metadata": {},
          "execution_count": 27
        }
      ]
    },
    {
      "cell_type": "markdown",
      "source": [
        "### Deep dive into Data Analysis"
      ],
      "metadata": {
        "id": "CA4z8ElUwgGq"
      }
    },
    {
      "cell_type": "code",
      "source": [
        "# Calculate basic data summaries\n",
        "\n",
        "df.describe()"
      ],
      "metadata": {
        "colab": {
          "base_uri": "https://localhost:8080/",
          "height": 300
        },
        "id": "NrS6VXRZ_cfJ",
        "outputId": "df5edeaa-29bd-4b18-a876-5d1cd1259f41"
      },
      "execution_count": 28,
      "outputs": [
        {
          "output_type": "execute_result",
          "data": {
            "text/plain": [
              "       Matches Played         Win        Loss       Drawn        Goals  \\\n",
              "count       40.000000   40.000000   40.000000   40.000000    40.000000   \n",
              "mean       573.750000  215.450000  210.425000  147.875000   769.000000   \n",
              "std        358.986519  194.164608  102.132364   88.873632   627.746478   \n",
              "min        190.000000   41.000000   85.000000   48.000000   181.000000   \n",
              "25%        275.000000   80.500000  127.500000   71.500000   304.500000   \n",
              "50%        443.000000  116.500000  193.500000  120.000000   462.000000   \n",
              "75%        934.750000  295.750000  263.000000  222.000000  1142.750000   \n",
              "max       1182.000000  720.000000  429.000000  329.000000  2229.000000   \n",
              "\n",
              "       Clean Sheets    Winners  Runners-up  lastplayed_pl  \n",
              "count     40.000000  40.000000        40.0      40.000000  \n",
              "mean     167.925000   0.750000        0.75    2018.000000  \n",
              "std      135.561584   2.372384    1.750458       6.876195  \n",
              "min       45.000000   0.000000         0.0    2000.000000  \n",
              "25%       66.000000   0.000000         0.0    2014.500000  \n",
              "50%      104.000000   0.000000         0.0    2022.000000  \n",
              "75%      244.250000   0.000000         0.0    2023.000000  \n",
              "max      491.000000  13.000000         7.0    2023.000000  "
            ],
            "text/html": [
              "\n",
              "  <div id=\"df-5f25a23d-7161-4cfe-bde8-1949e818b13b\">\n",
              "    <div class=\"colab-df-container\">\n",
              "      <div>\n",
              "<style scoped>\n",
              "    .dataframe tbody tr th:only-of-type {\n",
              "        vertical-align: middle;\n",
              "    }\n",
              "\n",
              "    .dataframe tbody tr th {\n",
              "        vertical-align: top;\n",
              "    }\n",
              "\n",
              "    .dataframe thead th {\n",
              "        text-align: right;\n",
              "    }\n",
              "</style>\n",
              "<table border=\"1\" class=\"dataframe\">\n",
              "  <thead>\n",
              "    <tr style=\"text-align: right;\">\n",
              "      <th></th>\n",
              "      <th>Matches Played</th>\n",
              "      <th>Win</th>\n",
              "      <th>Loss</th>\n",
              "      <th>Drawn</th>\n",
              "      <th>Goals</th>\n",
              "      <th>Clean Sheets</th>\n",
              "      <th>Winners</th>\n",
              "      <th>Runners-up</th>\n",
              "      <th>lastplayed_pl</th>\n",
              "    </tr>\n",
              "  </thead>\n",
              "  <tbody>\n",
              "    <tr>\n",
              "      <th>count</th>\n",
              "      <td>40.000000</td>\n",
              "      <td>40.000000</td>\n",
              "      <td>40.000000</td>\n",
              "      <td>40.000000</td>\n",
              "      <td>40.000000</td>\n",
              "      <td>40.000000</td>\n",
              "      <td>40.000000</td>\n",
              "      <td>40.0</td>\n",
              "      <td>40.000000</td>\n",
              "    </tr>\n",
              "    <tr>\n",
              "      <th>mean</th>\n",
              "      <td>573.750000</td>\n",
              "      <td>215.450000</td>\n",
              "      <td>210.425000</td>\n",
              "      <td>147.875000</td>\n",
              "      <td>769.000000</td>\n",
              "      <td>167.925000</td>\n",
              "      <td>0.750000</td>\n",
              "      <td>0.75</td>\n",
              "      <td>2018.000000</td>\n",
              "    </tr>\n",
              "    <tr>\n",
              "      <th>std</th>\n",
              "      <td>358.986519</td>\n",
              "      <td>194.164608</td>\n",
              "      <td>102.132364</td>\n",
              "      <td>88.873632</td>\n",
              "      <td>627.746478</td>\n",
              "      <td>135.561584</td>\n",
              "      <td>2.372384</td>\n",
              "      <td>1.750458</td>\n",
              "      <td>6.876195</td>\n",
              "    </tr>\n",
              "    <tr>\n",
              "      <th>min</th>\n",
              "      <td>190.000000</td>\n",
              "      <td>41.000000</td>\n",
              "      <td>85.000000</td>\n",
              "      <td>48.000000</td>\n",
              "      <td>181.000000</td>\n",
              "      <td>45.000000</td>\n",
              "      <td>0.000000</td>\n",
              "      <td>0.0</td>\n",
              "      <td>2000.000000</td>\n",
              "    </tr>\n",
              "    <tr>\n",
              "      <th>25%</th>\n",
              "      <td>275.000000</td>\n",
              "      <td>80.500000</td>\n",
              "      <td>127.500000</td>\n",
              "      <td>71.500000</td>\n",
              "      <td>304.500000</td>\n",
              "      <td>66.000000</td>\n",
              "      <td>0.000000</td>\n",
              "      <td>0.0</td>\n",
              "      <td>2014.500000</td>\n",
              "    </tr>\n",
              "    <tr>\n",
              "      <th>50%</th>\n",
              "      <td>443.000000</td>\n",
              "      <td>116.500000</td>\n",
              "      <td>193.500000</td>\n",
              "      <td>120.000000</td>\n",
              "      <td>462.000000</td>\n",
              "      <td>104.000000</td>\n",
              "      <td>0.000000</td>\n",
              "      <td>0.0</td>\n",
              "      <td>2022.000000</td>\n",
              "    </tr>\n",
              "    <tr>\n",
              "      <th>75%</th>\n",
              "      <td>934.750000</td>\n",
              "      <td>295.750000</td>\n",
              "      <td>263.000000</td>\n",
              "      <td>222.000000</td>\n",
              "      <td>1142.750000</td>\n",
              "      <td>244.250000</td>\n",
              "      <td>0.000000</td>\n",
              "      <td>0.0</td>\n",
              "      <td>2023.000000</td>\n",
              "    </tr>\n",
              "    <tr>\n",
              "      <th>max</th>\n",
              "      <td>1182.000000</td>\n",
              "      <td>720.000000</td>\n",
              "      <td>429.000000</td>\n",
              "      <td>329.000000</td>\n",
              "      <td>2229.000000</td>\n",
              "      <td>491.000000</td>\n",
              "      <td>13.000000</td>\n",
              "      <td>7.0</td>\n",
              "      <td>2023.000000</td>\n",
              "    </tr>\n",
              "  </tbody>\n",
              "</table>\n",
              "</div>\n",
              "      <button class=\"colab-df-convert\" onclick=\"convertToInteractive('df-5f25a23d-7161-4cfe-bde8-1949e818b13b')\"\n",
              "              title=\"Convert this dataframe to an interactive table.\"\n",
              "              style=\"display:none;\">\n",
              "        \n",
              "  <svg xmlns=\"http://www.w3.org/2000/svg\" height=\"24px\"viewBox=\"0 0 24 24\"\n",
              "       width=\"24px\">\n",
              "    <path d=\"M0 0h24v24H0V0z\" fill=\"none\"/>\n",
              "    <path d=\"M18.56 5.44l.94 2.06.94-2.06 2.06-.94-2.06-.94-.94-2.06-.94 2.06-2.06.94zm-11 1L8.5 8.5l.94-2.06 2.06-.94-2.06-.94L8.5 2.5l-.94 2.06-2.06.94zm10 10l.94 2.06.94-2.06 2.06-.94-2.06-.94-.94-2.06-.94 2.06-2.06.94z\"/><path d=\"M17.41 7.96l-1.37-1.37c-.4-.4-.92-.59-1.43-.59-.52 0-1.04.2-1.43.59L10.3 9.45l-7.72 7.72c-.78.78-.78 2.05 0 2.83L4 21.41c.39.39.9.59 1.41.59.51 0 1.02-.2 1.41-.59l7.78-7.78 2.81-2.81c.8-.78.8-2.07 0-2.86zM5.41 20L4 18.59l7.72-7.72 1.47 1.35L5.41 20z\"/>\n",
              "  </svg>\n",
              "      </button>\n",
              "      \n",
              "  <style>\n",
              "    .colab-df-container {\n",
              "      display:flex;\n",
              "      flex-wrap:wrap;\n",
              "      gap: 12px;\n",
              "    }\n",
              "\n",
              "    .colab-df-convert {\n",
              "      background-color: #E8F0FE;\n",
              "      border: none;\n",
              "      border-radius: 50%;\n",
              "      cursor: pointer;\n",
              "      display: none;\n",
              "      fill: #1967D2;\n",
              "      height: 32px;\n",
              "      padding: 0 0 0 0;\n",
              "      width: 32px;\n",
              "    }\n",
              "\n",
              "    .colab-df-convert:hover {\n",
              "      background-color: #E2EBFA;\n",
              "      box-shadow: 0px 1px 2px rgba(60, 64, 67, 0.3), 0px 1px 3px 1px rgba(60, 64, 67, 0.15);\n",
              "      fill: #174EA6;\n",
              "    }\n",
              "\n",
              "    [theme=dark] .colab-df-convert {\n",
              "      background-color: #3B4455;\n",
              "      fill: #D2E3FC;\n",
              "    }\n",
              "\n",
              "    [theme=dark] .colab-df-convert:hover {\n",
              "      background-color: #434B5C;\n",
              "      box-shadow: 0px 1px 3px 1px rgba(0, 0, 0, 0.15);\n",
              "      filter: drop-shadow(0px 1px 2px rgba(0, 0, 0, 0.3));\n",
              "      fill: #FFFFFF;\n",
              "    }\n",
              "  </style>\n",
              "\n",
              "      <script>\n",
              "        const buttonEl =\n",
              "          document.querySelector('#df-5f25a23d-7161-4cfe-bde8-1949e818b13b button.colab-df-convert');\n",
              "        buttonEl.style.display =\n",
              "          google.colab.kernel.accessAllowed ? 'block' : 'none';\n",
              "\n",
              "        async function convertToInteractive(key) {\n",
              "          const element = document.querySelector('#df-5f25a23d-7161-4cfe-bde8-1949e818b13b');\n",
              "          const dataTable =\n",
              "            await google.colab.kernel.invokeFunction('convertToInteractive',\n",
              "                                                     [key], {});\n",
              "          if (!dataTable) return;\n",
              "\n",
              "          const docLinkHtml = 'Like what you see? Visit the ' +\n",
              "            '<a target=\"_blank\" href=https://colab.research.google.com/notebooks/data_table.ipynb>data table notebook</a>'\n",
              "            + ' to learn more about interactive tables.';\n",
              "          element.innerHTML = '';\n",
              "          dataTable['output_type'] = 'display_data';\n",
              "          await google.colab.output.renderOutput(dataTable, element);\n",
              "          const docLink = document.createElement('div');\n",
              "          docLink.innerHTML = docLinkHtml;\n",
              "          element.appendChild(docLink);\n",
              "        }\n",
              "      </script>\n",
              "    </div>\n",
              "  </div>\n",
              "  "
            ]
          },
          "metadata": {},
          "execution_count": 28
        }
      ]
    },
    {
      "cell_type": "markdown",
      "source": [
        "The average number of matches played by each team in the tournament is 573.75, while the mean number of goals scored by all teams is 769. However, the median number of goals scored is much lower at 462, indicating that some teams have scored significantly more goals than others.\n",
        "\n",
        "Interestingly, the median number of wins and runners-up positions are both 0, suggesting that most teams have not won or finished as runners-up in the tournament. However, there is one team that has won the tournament a remarkable 13 times and another team that has been the runners-up 7 times. It would be interesting to find out which teams these are."
      ],
      "metadata": {
        "id": "e6FgSOVX_sTk"
      }
    },
    {
      "cell_type": "code",
      "source": [
        "# Team that has won Premier League 13 times\n",
        "df[df['Winners']==13]['Club']"
      ],
      "metadata": {
        "colab": {
          "base_uri": "https://localhost:8080/"
        },
        "id": "Xs7_W1Bo_tMT",
        "outputId": "e6e1d651-6c50-4af0-f606-75bad7bff394"
      },
      "execution_count": 29,
      "outputs": [
        {
          "output_type": "execute_result",
          "data": {
            "text/plain": [
              "20    Manchester United\n",
              "Name: Club, dtype: object"
            ]
          },
          "metadata": {},
          "execution_count": 29
        }
      ]
    },
    {
      "cell_type": "code",
      "source": [
        "# Team that has been runner-up 7 times\n",
        "df[df['Runners-up']==7]['Club']"
      ],
      "metadata": {
        "colab": {
          "base_uri": "https://localhost:8080/"
        },
        "id": "pQSFSIWIAGWj",
        "outputId": "60f21f86-f75c-4c73-cc52-6b2543546763"
      },
      "execution_count": 30,
      "outputs": [
        {
          "output_type": "execute_result",
          "data": {
            "text/plain": [
              "20    Manchester United\n",
              "Name: Club, dtype: object"
            ]
          },
          "metadata": {},
          "execution_count": 30
        }
      ]
    },
    {
      "cell_type": "markdown",
      "source": [
        "We see that Manchester United has won Premier league 13 times and have been runner-up 7 times."
      ],
      "metadata": {
        "id": "QDdLpHCXASpq"
      }
    },
    {
      "cell_type": "code",
      "source": [
        "import matplotlib.pyplot as plt\n",
        "\n",
        "%matplotlib inline"
      ],
      "metadata": {
        "id": "RmeKG7ARATjD"
      },
      "execution_count": 31,
      "outputs": []
    },
    {
      "cell_type": "code",
      "source": [
        "# Let us visualize each column\n",
        "\n",
        "# First let us start with Matches Played column\n",
        "# plot histogram\n",
        "\n",
        "plt.hist(df['Matches Played'])\n",
        "\n",
        "# add labels and title\n",
        "plt.xlabel('No.of Match Played')\n",
        "plt.ylabel('Frequency')\n",
        "plt.title('Histogram of Matches Played')"
      ],
      "metadata": {
        "colab": {
          "base_uri": "https://localhost:8080/",
          "height": 489
        },
        "id": "_dqy5QKAAicL",
        "outputId": "540ec07f-dcb2-4e20-ee5d-74d5041a15f1"
      },
      "execution_count": 32,
      "outputs": [
        {
          "output_type": "execute_result",
          "data": {
            "text/plain": [
              "Text(0.5, 1.0, 'Histogram of Matches Played')"
            ]
          },
          "metadata": {},
          "execution_count": 32
        },
        {
          "output_type": "display_data",
          "data": {
            "text/plain": [
              "<Figure size 640x480 with 1 Axes>"
            ],
            "image/png": "[encoded data removed]"
          },
          "metadata": {}
        }
      ]
    },
    {
      "cell_type": "markdown",
      "source": [
        "We can see from the histogram that a majority of teams have played less than 400 matches. However, there are a few teams that have played an exceptionally high number of matches, exceeding 900.\n",
        "\n",
        "As per the project requirements, it is worth noting that some of the more established clubs have already been owned by the competitors. Therefore, the client is interested in identifying potential clubs that may perform well in the future, even if they have less experience in the Premier League."
      ],
      "metadata": {
        "id": "YZYkw43iBNYc"
      }
    },
    {
      "cell_type": "code",
      "source": [
        "#Identify teams who have played more than 900 matches\n",
        "\n",
        "df[df['Matches Played']>=900]['Club']"
      ],
      "metadata": {
        "colab": {
          "base_uri": "https://localhost:8080/"
        },
        "id": "juSLK3_RBSaz",
        "outputId": "5b3abecb-8172-4f4d-c9bd-ce7734571974"
      },
      "execution_count": 34,
      "outputs": [
        {
          "output_type": "execute_result",
          "data": {
            "text/plain": [
              "0               Arsenal\n",
              "1           Aston Villa\n",
              "9               Chelsea\n",
              "13              Everton\n",
              "18            Liverpool\n",
              "19      Manchester City\n",
              "20    Manchester United\n",
              "22     Newcastle United\n",
              "29          Southampton\n",
              "33    Tottenham Hotspur\n",
              "36      West Ham United\n",
              "Name: Club, dtype: object"
            ]
          },
          "metadata": {},
          "execution_count": 34
        }
      ]
    },
    {
      "cell_type": "markdown",
      "source": [
        "Upon analysis, we have observed that there are a total of 11 clubs who have significantly more experience in the Premier League as compared to the others. These clubs have played a higher number of matches and have established themselves as experienced players in the league.\n",
        "\n",
        "As per the client's requirements, we are interested in identifying potential clubs that may perform well in the future, even if they have less experience in the Premier League. Therefore, we have decided to drop these 11 clubs from our analysis, as their established presence in the league may skew our results and make it difficult to identify less experienced clubs with high potential.\n",
        "\n",
        "By removing these clubs, we can focus our analysis on the remaining clubs and potentially identify hidden gems that may have been overlooked due to their lack of experience in the league."
      ],
      "metadata": {
        "id": "2Wb8Fw9yBh2U"
      }
    },
    {
      "cell_type": "code",
      "source": [
        "df[df['Matches Played']<900]"
      ],
      "metadata": {
        "colab": {
          "base_uri": "https://localhost:8080/",
          "height": 959
        },
        "id": "IPQdCfeuBkx8",
        "outputId": "003ccef3-2be2-48e4-a281-4a328fd72161"
      },
      "execution_count": 36,
      "outputs": [
        {
          "output_type": "execute_result",
          "data": {
            "text/plain": [
              "                       Club  Matches Played  Win  Loss  Drawn  Goals  \\\n",
              "2           Birmingham City             266   73   111     82    273   \n",
              "3          Blackburn Rovers             696  262   250    184    927   \n",
              "4          Bolton Wanderers             494  149   217    128    575   \n",
              "5               Bournemouth             219   64   107     48    269   \n",
              "6    Brighton & Hove Albion             218   61    85     72    243   \n",
              "7                   Burnley             304   83   145     76    300   \n",
              "8         Charlton Athletic             304   93   129     82    342   \n",
              "10            Coventry City             354   99   143    112    387   \n",
              "11           Crystal Palace             532  153   241    138    576   \n",
              "12             Derby County             266   68   128     70    271   \n",
              "14                   Fulham             599  173   266    160    670   \n",
              "15             Ipswich Town             202   57    92     53    219   \n",
              "16             Leeds United             574  223   202    149    784   \n",
              "17           Leicester City             642  216   262    164    860   \n",
              "21            Middlesbrough             574  165   240    169    648   \n",
              "23             Norwich City             392   99   188    105    414   \n",
              "24        Nottingham Forest             227   66    94     67    253   \n",
              "25                Hull City             190   41   101     48    181   \n",
              "26      Queens Park Rangers             278   81   132     65    339   \n",
              "27         Sheffield United             198   53    95     50    187   \n",
              "28      Sheffield Wednesday             316  101   126     89    409   \n",
              "30               Stoke City             380  116   155    109    398   \n",
              "31               Sunderland             608  153   296    159    612   \n",
              "32             Swansea City             266   82   118     66    306   \n",
              "34                  Watford             305   73   165     67    310   \n",
              "35     West Bromwich Albion             494  117   238    139    510   \n",
              "37           Wigan Athletic             304   85   143     76    316   \n",
              "38  Wolverhampton Wanderers             334   98   151     85    353   \n",
              "39               Portsmouth             266   79   122     65    292   \n",
              "\n",
              "    Clean Sheets TeamLaunch  Winners  Runners-up  lastplayed_pl  \n",
              "2             66       1875      0.0           0           2011  \n",
              "3            210       1875      1.0           1           2012  \n",
              "4            108       1874      0.0           0           2012  \n",
              "5             45       1899      0.0           0           2023  \n",
              "6             58       1901      0.0           0           2023  \n",
              "7             78       1882      0.0           0           2022  \n",
              "8             91       1905      0.0           0           2007  \n",
              "10            92       1883      0.0           0           2001  \n",
              "11           133       1861      0.0           0           2023  \n",
              "12            66       1884      0.0           0           2008  \n",
              "14           160       1879      0.0           0           2023  \n",
              "15            49       1878      0.0           0           2002  \n",
              "16           179       1919      0.0           0           2023  \n",
              "17           167       1884      1.0           0           2023  \n",
              "21           147       1876      0.0           0           2017  \n",
              "23            78       1902      0.0           0           2022  \n",
              "24            52       1865      0.0           0           2023  \n",
              "25            58       1904      0.0           0           2017  \n",
              "26            53       1886      0.0           0           2015  \n",
              "27            50       1889      0.0           0           2021  \n",
              "28            78       1867      0.0           0           2000  \n",
              "30           101       1863      0.0           0           2018  \n",
              "31           150       1879      0.0           0           2017  \n",
              "32            71       1912      0.0           0           2018  \n",
              "34            62       1881      0.0           0           2022  \n",
              "35           107       1878      0.0           0           2018  \n",
              "37            73       1932      0.0           0           2013  \n",
              "38            75       1877      0.0           0           2023  \n",
              "39            61       1898      0.0           0           2010  "
            ],
            "text/html": [
              "\n",
              "  <div id=\"df-a55a6acc-6bfc-473c-a44f-23a04185dd62\">\n",
              "    <div class=\"colab-df-container\">\n",
              "      <div>\n",
              "<style scoped>\n",
              "    .dataframe tbody tr th:only-of-type {\n",
              "        vertical-align: middle;\n",
              "    }\n",
              "\n",
              "    .dataframe tbody tr th {\n",
              "        vertical-align: top;\n",
              "    }\n",
              "\n",
              "    .dataframe thead th {\n",
              "        text-align: right;\n",
              "    }\n",
              "</style>\n",
              "<table border=\"1\" class=\"dataframe\">\n",
              "  <thead>\n",
              "    <tr style=\"text-align: right;\">\n",
              "      <th></th>\n",
              "      <th>Club</th>\n",
              "      <th>Matches Played</th>\n",
              "      <th>Win</th>\n",
              "      <th>Loss</th>\n",
              "      <th>Drawn</th>\n",
              "      <th>Goals</th>\n",
              "      <th>Clean Sheets</th>\n",
              "      <th>TeamLaunch</th>\n",
              "      <th>Winners</th>\n",
              "      <th>Runners-up</th>\n",
              "      <th>lastplayed_pl</th>\n",
              "    </tr>\n",
              "  </thead>\n",
              "  <tbody>\n",
              "    <tr>\n",
              "      <th>2</th>\n",
              "      <td>Birmingham City</td>\n",
              "      <td>266</td>\n",
              "      <td>73</td>\n",
              "      <td>111</td>\n",
              "      <td>82</td>\n",
              "      <td>273</td>\n",
              "      <td>66</td>\n",
              "      <td>1875</td>\n",
              "      <td>0.0</td>\n",
              "      <td>0</td>\n",
              "      <td>2011</td>\n",
              "    </tr>\n",
              "    <tr>\n",
              "      <th>3</th>\n",
              "      <td>Blackburn Rovers</td>\n",
              "      <td>696</td>\n",
              "      <td>262</td>\n",
              "      <td>250</td>\n",
              "      <td>184</td>\n",
              "      <td>927</td>\n",
              "      <td>210</td>\n",
              "      <td>1875</td>\n",
              "      <td>1.0</td>\n",
              "      <td>1</td>\n",
              "      <td>2012</td>\n",
              "    </tr>\n",
              "    <tr>\n",
              "      <th>4</th>\n",
              "      <td>Bolton Wanderers</td>\n",
              "      <td>494</td>\n",
              "      <td>149</td>\n",
              "      <td>217</td>\n",
              "      <td>128</td>\n",
              "      <td>575</td>\n",
              "      <td>108</td>\n",
              "      <td>1874</td>\n",
              "      <td>0.0</td>\n",
              "      <td>0</td>\n",
              "      <td>2012</td>\n",
              "    </tr>\n",
              "    <tr>\n",
              "      <th>5</th>\n",
              "      <td>Bournemouth</td>\n",
              "      <td>219</td>\n",
              "      <td>64</td>\n",
              "      <td>107</td>\n",
              "      <td>48</td>\n",
              "      <td>269</td>\n",
              "      <td>45</td>\n",
              "      <td>1899</td>\n",
              "      <td>0.0</td>\n",
              "      <td>0</td>\n",
              "      <td>2023</td>\n",
              "    </tr>\n",
              "    <tr>\n",
              "      <th>6</th>\n",
              "      <td>Brighton &amp; Hove Albion</td>\n",
              "      <td>218</td>\n",
              "      <td>61</td>\n",
              "      <td>85</td>\n",
              "      <td>72</td>\n",
              "      <td>243</td>\n",
              "      <td>58</td>\n",
              "      <td>1901</td>\n",
              "      <td>0.0</td>\n",
              "      <td>0</td>\n",
              "      <td>2023</td>\n",
              "    </tr>\n",
              "    <tr>\n",
              "      <th>7</th>\n",
              "      <td>Burnley</td>\n",
              "      <td>304</td>\n",
              "      <td>83</td>\n",
              "      <td>145</td>\n",
              "      <td>76</td>\n",
              "      <td>300</td>\n",
              "      <td>78</td>\n",
              "      <td>1882</td>\n",
              "      <td>0.0</td>\n",
              "      <td>0</td>\n",
              "      <td>2022</td>\n",
              "    </tr>\n",
              "    <tr>\n",
              "      <th>8</th>\n",
              "      <td>Charlton Athletic</td>\n",
              "      <td>304</td>\n",
              "      <td>93</td>\n",
              "      <td>129</td>\n",
              "      <td>82</td>\n",
              "      <td>342</td>\n",
              "      <td>91</td>\n",
              "      <td>1905</td>\n",
              "      <td>0.0</td>\n",
              "      <td>0</td>\n",
              "      <td>2007</td>\n",
              "    </tr>\n",
              "    <tr>\n",
              "      <th>10</th>\n",
              "      <td>Coventry City</td>\n",
              "      <td>354</td>\n",
              "      <td>99</td>\n",
              "      <td>143</td>\n",
              "      <td>112</td>\n",
              "      <td>387</td>\n",
              "      <td>92</td>\n",
              "      <td>1883</td>\n",
              "      <td>0.0</td>\n",
              "      <td>0</td>\n",
              "      <td>2001</td>\n",
              "    </tr>\n",
              "    <tr>\n",
              "      <th>11</th>\n",
              "      <td>Crystal Palace</td>\n",
              "      <td>532</td>\n",
              "      <td>153</td>\n",
              "      <td>241</td>\n",
              "      <td>138</td>\n",
              "      <td>576</td>\n",
              "      <td>133</td>\n",
              "      <td>1861</td>\n",
              "      <td>0.0</td>\n",
              "      <td>0</td>\n",
              "      <td>2023</td>\n",
              "    </tr>\n",
              "    <tr>\n",
              "      <th>12</th>\n",
              "      <td>Derby County</td>\n",
              "      <td>266</td>\n",
              "      <td>68</td>\n",
              "      <td>128</td>\n",
              "      <td>70</td>\n",
              "      <td>271</td>\n",
              "      <td>66</td>\n",
              "      <td>1884</td>\n",
              "      <td>0.0</td>\n",
              "      <td>0</td>\n",
              "      <td>2008</td>\n",
              "    </tr>\n",
              "    <tr>\n",
              "      <th>14</th>\n",
              "      <td>Fulham</td>\n",
              "      <td>599</td>\n",
              "      <td>173</td>\n",
              "      <td>266</td>\n",
              "      <td>160</td>\n",
              "      <td>670</td>\n",
              "      <td>160</td>\n",
              "      <td>1879</td>\n",
              "      <td>0.0</td>\n",
              "      <td>0</td>\n",
              "      <td>2023</td>\n",
              "    </tr>\n",
              "    <tr>\n",
              "      <th>15</th>\n",
              "      <td>Ipswich Town</td>\n",
              "      <td>202</td>\n",
              "      <td>57</td>\n",
              "      <td>92</td>\n",
              "      <td>53</td>\n",
              "      <td>219</td>\n",
              "      <td>49</td>\n",
              "      <td>1878</td>\n",
              "      <td>0.0</td>\n",
              "      <td>0</td>\n",
              "      <td>2002</td>\n",
              "    </tr>\n",
              "    <tr>\n",
              "      <th>16</th>\n",
              "      <td>Leeds United</td>\n",
              "      <td>574</td>\n",
              "      <td>223</td>\n",
              "      <td>202</td>\n",
              "      <td>149</td>\n",
              "      <td>784</td>\n",
              "      <td>179</td>\n",
              "      <td>1919</td>\n",
              "      <td>0.0</td>\n",
              "      <td>0</td>\n",
              "      <td>2023</td>\n",
              "    </tr>\n",
              "    <tr>\n",
              "      <th>17</th>\n",
              "      <td>Leicester City</td>\n",
              "      <td>642</td>\n",
              "      <td>216</td>\n",
              "      <td>262</td>\n",
              "      <td>164</td>\n",
              "      <td>860</td>\n",
              "      <td>167</td>\n",
              "      <td>1884</td>\n",
              "      <td>1.0</td>\n",
              "      <td>0</td>\n",
              "      <td>2023</td>\n",
              "    </tr>\n",
              "    <tr>\n",
              "      <th>21</th>\n",
              "      <td>Middlesbrough</td>\n",
              "      <td>574</td>\n",
              "      <td>165</td>\n",
              "      <td>240</td>\n",
              "      <td>169</td>\n",
              "      <td>648</td>\n",
              "      <td>147</td>\n",
              "      <td>1876</td>\n",
              "      <td>0.0</td>\n",
              "      <td>0</td>\n",
              "      <td>2017</td>\n",
              "    </tr>\n",
              "    <tr>\n",
              "      <th>23</th>\n",
              "      <td>Norwich City</td>\n",
              "      <td>392</td>\n",
              "      <td>99</td>\n",
              "      <td>188</td>\n",
              "      <td>105</td>\n",
              "      <td>414</td>\n",
              "      <td>78</td>\n",
              "      <td>1902</td>\n",
              "      <td>0.0</td>\n",
              "      <td>0</td>\n",
              "      <td>2022</td>\n",
              "    </tr>\n",
              "    <tr>\n",
              "      <th>24</th>\n",
              "      <td>Nottingham Forest</td>\n",
              "      <td>227</td>\n",
              "      <td>66</td>\n",
              "      <td>94</td>\n",
              "      <td>67</td>\n",
              "      <td>253</td>\n",
              "      <td>52</td>\n",
              "      <td>1865</td>\n",
              "      <td>0.0</td>\n",
              "      <td>0</td>\n",
              "      <td>2023</td>\n",
              "    </tr>\n",
              "    <tr>\n",
              "      <th>25</th>\n",
              "      <td>Hull City</td>\n",
              "      <td>190</td>\n",
              "      <td>41</td>\n",
              "      <td>101</td>\n",
              "      <td>48</td>\n",
              "      <td>181</td>\n",
              "      <td>58</td>\n",
              "      <td>1904</td>\n",
              "      <td>0.0</td>\n",
              "      <td>0</td>\n",
              "      <td>2017</td>\n",
              "    </tr>\n",
              "    <tr>\n",
              "      <th>26</th>\n",
              "      <td>Queens Park Rangers</td>\n",
              "      <td>278</td>\n",
              "      <td>81</td>\n",
              "      <td>132</td>\n",
              "      <td>65</td>\n",
              "      <td>339</td>\n",
              "      <td>53</td>\n",
              "      <td>1886</td>\n",
              "      <td>0.0</td>\n",
              "      <td>0</td>\n",
              "      <td>2015</td>\n",
              "    </tr>\n",
              "    <tr>\n",
              "      <th>27</th>\n",
              "      <td>Sheffield United</td>\n",
              "      <td>198</td>\n",
              "      <td>53</td>\n",
              "      <td>95</td>\n",
              "      <td>50</td>\n",
              "      <td>187</td>\n",
              "      <td>50</td>\n",
              "      <td>1889</td>\n",
              "      <td>0.0</td>\n",
              "      <td>0</td>\n",
              "      <td>2021</td>\n",
              "    </tr>\n",
              "    <tr>\n",
              "      <th>28</th>\n",
              "      <td>Sheffield Wednesday</td>\n",
              "      <td>316</td>\n",
              "      <td>101</td>\n",
              "      <td>126</td>\n",
              "      <td>89</td>\n",
              "      <td>409</td>\n",
              "      <td>78</td>\n",
              "      <td>1867</td>\n",
              "      <td>0.0</td>\n",
              "      <td>0</td>\n",
              "      <td>2000</td>\n",
              "    </tr>\n",
              "    <tr>\n",
              "      <th>30</th>\n",
              "      <td>Stoke City</td>\n",
              "      <td>380</td>\n",
              "      <td>116</td>\n",
              "      <td>155</td>\n",
              "      <td>109</td>\n",
              "      <td>398</td>\n",
              "      <td>101</td>\n",
              "      <td>1863</td>\n",
              "      <td>0.0</td>\n",
              "      <td>0</td>\n",
              "      <td>2018</td>\n",
              "    </tr>\n",
              "    <tr>\n",
              "      <th>31</th>\n",
              "      <td>Sunderland</td>\n",
              "      <td>608</td>\n",
              "      <td>153</td>\n",
              "      <td>296</td>\n",
              "      <td>159</td>\n",
              "      <td>612</td>\n",
              "      <td>150</td>\n",
              "      <td>1879</td>\n",
              "      <td>0.0</td>\n",
              "      <td>0</td>\n",
              "      <td>2017</td>\n",
              "    </tr>\n",
              "    <tr>\n",
              "      <th>32</th>\n",
              "      <td>Swansea City</td>\n",
              "      <td>266</td>\n",
              "      <td>82</td>\n",
              "      <td>118</td>\n",
              "      <td>66</td>\n",
              "      <td>306</td>\n",
              "      <td>71</td>\n",
              "      <td>1912</td>\n",
              "      <td>0.0</td>\n",
              "      <td>0</td>\n",
              "      <td>2018</td>\n",
              "    </tr>\n",
              "    <tr>\n",
              "      <th>34</th>\n",
              "      <td>Watford</td>\n",
              "      <td>305</td>\n",
              "      <td>73</td>\n",
              "      <td>165</td>\n",
              "      <td>67</td>\n",
              "      <td>310</td>\n",
              "      <td>62</td>\n",
              "      <td>1881</td>\n",
              "      <td>0.0</td>\n",
              "      <td>0</td>\n",
              "      <td>2022</td>\n",
              "    </tr>\n",
              "    <tr>\n",
              "      <th>35</th>\n",
              "      <td>West Bromwich Albion</td>\n",
              "      <td>494</td>\n",
              "      <td>117</td>\n",
              "      <td>238</td>\n",
              "      <td>139</td>\n",
              "      <td>510</td>\n",
              "      <td>107</td>\n",
              "      <td>1878</td>\n",
              "      <td>0.0</td>\n",
              "      <td>0</td>\n",
              "      <td>2018</td>\n",
              "    </tr>\n",
              "    <tr>\n",
              "      <th>37</th>\n",
              "      <td>Wigan Athletic</td>\n",
              "      <td>304</td>\n",
              "      <td>85</td>\n",
              "      <td>143</td>\n",
              "      <td>76</td>\n",
              "      <td>316</td>\n",
              "      <td>73</td>\n",
              "      <td>1932</td>\n",
              "      <td>0.0</td>\n",
              "      <td>0</td>\n",
              "      <td>2013</td>\n",
              "    </tr>\n",
              "    <tr>\n",
              "      <th>38</th>\n",
              "      <td>Wolverhampton Wanderers</td>\n",
              "      <td>334</td>\n",
              "      <td>98</td>\n",
              "      <td>151</td>\n",
              "      <td>85</td>\n",
              "      <td>353</td>\n",
              "      <td>75</td>\n",
              "      <td>1877</td>\n",
              "      <td>0.0</td>\n",
              "      <td>0</td>\n",
              "      <td>2023</td>\n",
              "    </tr>\n",
              "    <tr>\n",
              "      <th>39</th>\n",
              "      <td>Portsmouth</td>\n",
              "      <td>266</td>\n",
              "      <td>79</td>\n",
              "      <td>122</td>\n",
              "      <td>65</td>\n",
              "      <td>292</td>\n",
              "      <td>61</td>\n",
              "      <td>1898</td>\n",
              "      <td>0.0</td>\n",
              "      <td>0</td>\n",
              "      <td>2010</td>\n",
              "    </tr>\n",
              "  </tbody>\n",
              "</table>\n",
              "</div>\n",
              "      <button class=\"colab-df-convert\" onclick=\"convertToInteractive('df-a55a6acc-6bfc-473c-a44f-23a04185dd62')\"\n",
              "              title=\"Convert this dataframe to an interactive table.\"\n",
              "              style=\"display:none;\">\n",
              "        \n",
              "  <svg xmlns=\"http://www.w3.org/2000/svg\" height=\"24px\"viewBox=\"0 0 24 24\"\n",
              "       width=\"24px\">\n",
              "    <path d=\"M0 0h24v24H0V0z\" fill=\"none\"/>\n",
              "    <path d=\"M18.56 5.44l.94 2.06.94-2.06 2.06-.94-2.06-.94-.94-2.06-.94 2.06-2.06.94zm-11 1L8.5 8.5l.94-2.06 2.06-.94-2.06-.94L8.5 2.5l-.94 2.06-2.06.94zm10 10l.94 2.06.94-2.06 2.06-.94-2.06-.94-.94-2.06-.94 2.06-2.06.94z\"/><path d=\"M17.41 7.96l-1.37-1.37c-.4-.4-.92-.59-1.43-.59-.52 0-1.04.2-1.43.59L10.3 9.45l-7.72 7.72c-.78.78-.78 2.05 0 2.83L4 21.41c.39.39.9.59 1.41.59.51 0 1.02-.2 1.41-.59l7.78-7.78 2.81-2.81c.8-.78.8-2.07 0-2.86zM5.41 20L4 18.59l7.72-7.72 1.47 1.35L5.41 20z\"/>\n",
              "  </svg>\n",
              "      </button>\n",
              "      \n",
              "  <style>\n",
              "    .colab-df-container {\n",
              "      display:flex;\n",
              "      flex-wrap:wrap;\n",
              "      gap: 12px;\n",
              "    }\n",
              "\n",
              "    .colab-df-convert {\n",
              "      background-color: #E8F0FE;\n",
              "      border: none;\n",
              "      border-radius: 50%;\n",
              "      cursor: pointer;\n",
              "      display: none;\n",
              "      fill: #1967D2;\n",
              "      height: 32px;\n",
              "      padding: 0 0 0 0;\n",
              "      width: 32px;\n",
              "    }\n",
              "\n",
              "    .colab-df-convert:hover {\n",
              "      background-color: #E2EBFA;\n",
              "      box-shadow: 0px 1px 2px rgba(60, 64, 67, 0.3), 0px 1px 3px 1px rgba(60, 64, 67, 0.15);\n",
              "      fill: #174EA6;\n",
              "    }\n",
              "\n",
              "    [theme=dark] .colab-df-convert {\n",
              "      background-color: #3B4455;\n",
              "      fill: #D2E3FC;\n",
              "    }\n",
              "\n",
              "    [theme=dark] .colab-df-convert:hover {\n",
              "      background-color: #434B5C;\n",
              "      box-shadow: 0px 1px 3px 1px rgba(0, 0, 0, 0.15);\n",
              "      filter: drop-shadow(0px 1px 2px rgba(0, 0, 0, 0.3));\n",
              "      fill: #FFFFFF;\n",
              "    }\n",
              "  </style>\n",
              "\n",
              "      <script>\n",
              "        const buttonEl =\n",
              "          document.querySelector('#df-a55a6acc-6bfc-473c-a44f-23a04185dd62 button.colab-df-convert');\n",
              "        buttonEl.style.display =\n",
              "          google.colab.kernel.accessAllowed ? 'block' : 'none';\n",
              "\n",
              "        async function convertToInteractive(key) {\n",
              "          const element = document.querySelector('#df-a55a6acc-6bfc-473c-a44f-23a04185dd62');\n",
              "          const dataTable =\n",
              "            await google.colab.kernel.invokeFunction('convertToInteractive',\n",
              "                                                     [key], {});\n",
              "          if (!dataTable) return;\n",
              "\n",
              "          const docLinkHtml = 'Like what you see? Visit the ' +\n",
              "            '<a target=\"_blank\" href=https://colab.research.google.com/notebooks/data_table.ipynb>data table notebook</a>'\n",
              "            + ' to learn more about interactive tables.';\n",
              "          element.innerHTML = '';\n",
              "          dataTable['output_type'] = 'display_data';\n",
              "          await google.colab.output.renderOutput(dataTable, element);\n",
              "          const docLink = document.createElement('div');\n",
              "          docLink.innerHTML = docLinkHtml;\n",
              "          element.appendChild(docLink);\n",
              "        }\n",
              "      </script>\n",
              "    </div>\n",
              "  </div>\n",
              "  "
            ]
          },
          "metadata": {},
          "execution_count": 36
        }
      ]
    },
    {
      "cell_type": "code",
      "source": [
        "\n",
        "df=df[df['Matches Played']<900].reset_index(drop=True)\n",
        "\n",
        "#.reset_index will reset the index from 0,1,2....\n",
        "#drop=True will drop current index and reset it"
      ],
      "metadata": {
        "id": "enElzlAvBxnr"
      },
      "execution_count": 37,
      "outputs": []
    },
    {
      "cell_type": "code",
      "source": [
        "#Show DataFrame\n",
        "\n",
        "df.head()"
      ],
      "metadata": {
        "colab": {
          "base_uri": "https://localhost:8080/",
          "height": 206
        },
        "id": "X2mHJsXvChdc",
        "outputId": "bd53dbbc-fb56-4997-d98a-1167760c0f28"
      },
      "execution_count": 38,
      "outputs": [
        {
          "output_type": "execute_result",
          "data": {
            "text/plain": [
              "                     Club  Matches Played  Win  Loss  Drawn  Goals  \\\n",
              "0         Birmingham City             266   73   111     82    273   \n",
              "1        Blackburn Rovers             696  262   250    184    927   \n",
              "2        Bolton Wanderers             494  149   217    128    575   \n",
              "3             Bournemouth             219   64   107     48    269   \n",
              "4  Brighton & Hove Albion             218   61    85     72    243   \n",
              "\n",
              "   Clean Sheets TeamLaunch  Winners  Runners-up  lastplayed_pl  \n",
              "0            66       1875      0.0           0           2011  \n",
              "1           210       1875      1.0           1           2012  \n",
              "2           108       1874      0.0           0           2012  \n",
              "3            45       1899      0.0           0           2023  \n",
              "4            58       1901      0.0           0           2023  "
            ],
            "text/html": [
              "\n",
              "  <div id=\"df-82a2f8dd-caf4-49fe-b637-dac7152bae83\">\n",
              "    <div class=\"colab-df-container\">\n",
              "      <div>\n",
              "<style scoped>\n",
              "    .dataframe tbody tr th:only-of-type {\n",
              "        vertical-align: middle;\n",
              "    }\n",
              "\n",
              "    .dataframe tbody tr th {\n",
              "        vertical-align: top;\n",
              "    }\n",
              "\n",
              "    .dataframe thead th {\n",
              "        text-align: right;\n",
              "    }\n",
              "</style>\n",
              "<table border=\"1\" class=\"dataframe\">\n",
              "  <thead>\n",
              "    <tr style=\"text-align: right;\">\n",
              "      <th></th>\n",
              "      <th>Club</th>\n",
              "      <th>Matches Played</th>\n",
              "      <th>Win</th>\n",
              "      <th>Loss</th>\n",
              "      <th>Drawn</th>\n",
              "      <th>Goals</th>\n",
              "      <th>Clean Sheets</th>\n",
              "      <th>TeamLaunch</th>\n",
              "      <th>Winners</th>\n",
              "      <th>Runners-up</th>\n",
              "      <th>lastplayed_pl</th>\n",
              "    </tr>\n",
              "  </thead>\n",
              "  <tbody>\n",
              "    <tr>\n",
              "      <th>0</th>\n",
              "      <td>Birmingham City</td>\n",
              "      <td>266</td>\n",
              "      <td>73</td>\n",
              "      <td>111</td>\n",
              "      <td>82</td>\n",
              "      <td>273</td>\n",
              "      <td>66</td>\n",
              "      <td>1875</td>\n",
              "      <td>0.0</td>\n",
              "      <td>0</td>\n",
              "      <td>2011</td>\n",
              "    </tr>\n",
              "    <tr>\n",
              "      <th>1</th>\n",
              "      <td>Blackburn Rovers</td>\n",
              "      <td>696</td>\n",
              "      <td>262</td>\n",
              "      <td>250</td>\n",
              "      <td>184</td>\n",
              "      <td>927</td>\n",
              "      <td>210</td>\n",
              "      <td>1875</td>\n",
              "      <td>1.0</td>\n",
              "      <td>1</td>\n",
              "      <td>2012</td>\n",
              "    </tr>\n",
              "    <tr>\n",
              "      <th>2</th>\n",
              "      <td>Bolton Wanderers</td>\n",
              "      <td>494</td>\n",
              "      <td>149</td>\n",
              "      <td>217</td>\n",
              "      <td>128</td>\n",
              "      <td>575</td>\n",
              "      <td>108</td>\n",
              "      <td>1874</td>\n",
              "      <td>0.0</td>\n",
              "      <td>0</td>\n",
              "      <td>2012</td>\n",
              "    </tr>\n",
              "    <tr>\n",
              "      <th>3</th>\n",
              "      <td>Bournemouth</td>\n",
              "      <td>219</td>\n",
              "      <td>64</td>\n",
              "      <td>107</td>\n",
              "      <td>48</td>\n",
              "      <td>269</td>\n",
              "      <td>45</td>\n",
              "      <td>1899</td>\n",
              "      <td>0.0</td>\n",
              "      <td>0</td>\n",
              "      <td>2023</td>\n",
              "    </tr>\n",
              "    <tr>\n",
              "      <th>4</th>\n",
              "      <td>Brighton &amp; Hove Albion</td>\n",
              "      <td>218</td>\n",
              "      <td>61</td>\n",
              "      <td>85</td>\n",
              "      <td>72</td>\n",
              "      <td>243</td>\n",
              "      <td>58</td>\n",
              "      <td>1901</td>\n",
              "      <td>0.0</td>\n",
              "      <td>0</td>\n",
              "      <td>2023</td>\n",
              "    </tr>\n",
              "  </tbody>\n",
              "</table>\n",
              "</div>\n",
              "      <button class=\"colab-df-convert\" onclick=\"convertToInteractive('df-82a2f8dd-caf4-49fe-b637-dac7152bae83')\"\n",
              "              title=\"Convert this dataframe to an interactive table.\"\n",
              "              style=\"display:none;\">\n",
              "        \n",
              "  <svg xmlns=\"http://www.w3.org/2000/svg\" height=\"24px\"viewBox=\"0 0 24 24\"\n",
              "       width=\"24px\">\n",
              "    <path d=\"M0 0h24v24H0V0z\" fill=\"none\"/>\n",
              "    <path d=\"M18.56 5.44l.94 2.06.94-2.06 2.06-.94-2.06-.94-.94-2.06-.94 2.06-2.06.94zm-11 1L8.5 8.5l.94-2.06 2.06-.94-2.06-.94L8.5 2.5l-.94 2.06-2.06.94zm10 10l.94 2.06.94-2.06 2.06-.94-2.06-.94-.94-2.06-.94 2.06-2.06.94z\"/><path d=\"M17.41 7.96l-1.37-1.37c-.4-.4-.92-.59-1.43-.59-.52 0-1.04.2-1.43.59L10.3 9.45l-7.72 7.72c-.78.78-.78 2.05 0 2.83L4 21.41c.39.39.9.59 1.41.59.51 0 1.02-.2 1.41-.59l7.78-7.78 2.81-2.81c.8-.78.8-2.07 0-2.86zM5.41 20L4 18.59l7.72-7.72 1.47 1.35L5.41 20z\"/>\n",
              "  </svg>\n",
              "      </button>\n",
              "      \n",
              "  <style>\n",
              "    .colab-df-container {\n",
              "      display:flex;\n",
              "      flex-wrap:wrap;\n",
              "      gap: 12px;\n",
              "    }\n",
              "\n",
              "    .colab-df-convert {\n",
              "      background-color: #E8F0FE;\n",
              "      border: none;\n",
              "      border-radius: 50%;\n",
              "      cursor: pointer;\n",
              "      display: none;\n",
              "      fill: #1967D2;\n",
              "      height: 32px;\n",
              "      padding: 0 0 0 0;\n",
              "      width: 32px;\n",
              "    }\n",
              "\n",
              "    .colab-df-convert:hover {\n",
              "      background-color: #E2EBFA;\n",
              "      box-shadow: 0px 1px 2px rgba(60, 64, 67, 0.3), 0px 1px 3px 1px rgba(60, 64, 67, 0.15);\n",
              "      fill: #174EA6;\n",
              "    }\n",
              "\n",
              "    [theme=dark] .colab-df-convert {\n",
              "      background-color: #3B4455;\n",
              "      fill: #D2E3FC;\n",
              "    }\n",
              "\n",
              "    [theme=dark] .colab-df-convert:hover {\n",
              "      background-color: #434B5C;\n",
              "      box-shadow: 0px 1px 3px 1px rgba(0, 0, 0, 0.15);\n",
              "      filter: drop-shadow(0px 1px 2px rgba(0, 0, 0, 0.3));\n",
              "      fill: #FFFFFF;\n",
              "    }\n",
              "  </style>\n",
              "\n",
              "      <script>\n",
              "        const buttonEl =\n",
              "          document.querySelector('#df-82a2f8dd-caf4-49fe-b637-dac7152bae83 button.colab-df-convert');\n",
              "        buttonEl.style.display =\n",
              "          google.colab.kernel.accessAllowed ? 'block' : 'none';\n",
              "\n",
              "        async function convertToInteractive(key) {\n",
              "          const element = document.querySelector('#df-82a2f8dd-caf4-49fe-b637-dac7152bae83');\n",
              "          const dataTable =\n",
              "            await google.colab.kernel.invokeFunction('convertToInteractive',\n",
              "                                                     [key], {});\n",
              "          if (!dataTable) return;\n",
              "\n",
              "          const docLinkHtml = 'Like what you see? Visit the ' +\n",
              "            '<a target=\"_blank\" href=https://colab.research.google.com/notebooks/data_table.ipynb>data table notebook</a>'\n",
              "            + ' to learn more about interactive tables.';\n",
              "          element.innerHTML = '';\n",
              "          dataTable['output_type'] = 'display_data';\n",
              "          await google.colab.output.renderOutput(dataTable, element);\n",
              "          const docLink = document.createElement('div');\n",
              "          docLink.innerHTML = docLinkHtml;\n",
              "          element.appendChild(docLink);\n",
              "        }\n",
              "      </script>\n",
              "    </div>\n",
              "  </div>\n",
              "  "
            ]
          },
          "metadata": {},
          "execution_count": 38
        }
      ]
    },
    {
      "cell_type": "code",
      "source": [
        "#Show rows and column of new df\n",
        "\n",
        "df.shape"
      ],
      "metadata": {
        "colab": {
          "base_uri": "https://localhost:8080/"
        },
        "id": "yYPd6IGHCqk9",
        "outputId": "4686cb9d-e37c-414e-ae42-abff13a0d60a"
      },
      "execution_count": 39,
      "outputs": [
        {
          "output_type": "execute_result",
          "data": {
            "text/plain": [
              "(29, 11)"
            ]
          },
          "metadata": {},
          "execution_count": 39
        }
      ]
    },
    {
      "cell_type": "markdown",
      "source": [
        "It is essential to understand that the values in all the columns represent the cumulative scores over all the matches played.\n",
        "\n",
        "To accurately analyze the performance of the teams, we must normalize the data by dividing the no. of wins, loss, drawn, clean sheet, goals by the number of matches played.\n",
        "\n",
        "This normalization will provide us with a fair idea of the winning, losing, draw, and clean sheet percentages of each team along with goals per match."
      ],
      "metadata": {
        "id": "HFpwNP3oC3LD"
      }
    },
    {
      "cell_type": "code",
      "source": [
        "# Now let us look at Win, Loss, Drawn, and clean sheets column\n",
        "# Create new columns for Winning Rate, Loss Rate, Draw Rate, & Clean Sheet Rate\n",
        "\n",
        "df['Winning Rate'] = (df['Win']/df['Matches Played'])*100\n",
        "df['Loss Rate'] = (df['Loss']/df['Matches Played'])*100\n",
        "df['Drawn Rate'] = (df['Drawn']/df['Matches Played'])*100\n",
        "df['Clean Sheet Rate'] = (df['Clean Sheets']/df['Matches Played'])*100"
      ],
      "metadata": {
        "id": "yZ3WeQXTC9I8"
      },
      "execution_count": 41,
      "outputs": []
    },
    {
      "cell_type": "code",
      "source": [
        "# Create a column for average goals scored per match\n",
        "df['Avg Goal Per Match'] = (df['Goals'] / df['Matches Played'])\n",
        "df['Avg Goal Per Match'] = df['Avg Goal Per Match'].round()"
      ],
      "metadata": {
        "id": "wYPPqCqrDydb"
      },
      "execution_count": 56,
      "outputs": []
    },
    {
      "cell_type": "code",
      "source": [
        "#Show dataset\n",
        "\n",
        "df.head()"
      ],
      "metadata": {
        "colab": {
          "base_uri": "https://localhost:8080/",
          "height": 354
        },
        "id": "2pZ-LK2cEJDU",
        "outputId": "6cf8e64e-1504-4581-9c99-9e7685edf985"
      },
      "execution_count": 43,
      "outputs": [
        {
          "output_type": "execute_result",
          "data": {
            "text/plain": [
              "                     Club  Matches Played  Win  Loss  Drawn  Goals  \\\n",
              "0         Birmingham City             266   73   111     82    273   \n",
              "1        Blackburn Rovers             696  262   250    184    927   \n",
              "2        Bolton Wanderers             494  149   217    128    575   \n",
              "3             Bournemouth             219   64   107     48    269   \n",
              "4  Brighton & Hove Albion             218   61    85     72    243   \n",
              "\n",
              "   Clean Sheets TeamLaunch  Winners  Runners-up  lastplayed_pl  Winning Rate  \\\n",
              "0            66       1875      0.0           0           2011     27.443609   \n",
              "1           210       1875      1.0           1           2012     37.643678   \n",
              "2           108       1874      0.0           0           2012     30.161943   \n",
              "3            45       1899      0.0           0           2023     29.223744   \n",
              "4            58       1901      0.0           0           2023     27.981651   \n",
              "\n",
              "   Loss Rate  Drawn Rate  Clean Sheet Rate  Avg Goal Per Match  \n",
              "0  41.729323   30.827068         24.812030               103.0  \n",
              "1  35.919540   26.436782         30.172414               133.0  \n",
              "2  43.927126   25.910931         21.862348               116.0  \n",
              "3  48.858447   21.917808         20.547945               123.0  \n",
              "4  38.990826   33.027523         26.605505               111.0  "
            ],
            "text/html": [
              "\n",
              "  <div id=\"df-df32c8d8-e647-4fca-a4d9-df03b5c7648e\">\n",
              "    <div class=\"colab-df-container\">\n",
              "      <div>\n",
              "<style scoped>\n",
              "    .dataframe tbody tr th:only-of-type {\n",
              "        vertical-align: middle;\n",
              "    }\n",
              "\n",
              "    .dataframe tbody tr th {\n",
              "        vertical-align: top;\n",
              "    }\n",
              "\n",
              "    .dataframe thead th {\n",
              "        text-align: right;\n",
              "    }\n",
              "</style>\n",
              "<table border=\"1\" class=\"dataframe\">\n",
              "  <thead>\n",
              "    <tr style=\"text-align: right;\">\n",
              "      <th></th>\n",
              "      <th>Club</th>\n",
              "      <th>Matches Played</th>\n",
              "      <th>Win</th>\n",
              "      <th>Loss</th>\n",
              "      <th>Drawn</th>\n",
              "      <th>Goals</th>\n",
              "      <th>Clean Sheets</th>\n",
              "      <th>TeamLaunch</th>\n",
              "      <th>Winners</th>\n",
              "      <th>Runners-up</th>\n",
              "      <th>lastplayed_pl</th>\n",
              "      <th>Winning Rate</th>\n",
              "      <th>Loss Rate</th>\n",
              "      <th>Drawn Rate</th>\n",
              "      <th>Clean Sheet Rate</th>\n",
              "      <th>Avg Goal Per Match</th>\n",
              "    </tr>\n",
              "  </thead>\n",
              "  <tbody>\n",
              "    <tr>\n",
              "      <th>0</th>\n",
              "      <td>Birmingham City</td>\n",
              "      <td>266</td>\n",
              "      <td>73</td>\n",
              "      <td>111</td>\n",
              "      <td>82</td>\n",
              "      <td>273</td>\n",
              "      <td>66</td>\n",
              "      <td>1875</td>\n",
              "      <td>0.0</td>\n",
              "      <td>0</td>\n",
              "      <td>2011</td>\n",
              "      <td>27.443609</td>\n",
              "      <td>41.729323</td>\n",
              "      <td>30.827068</td>\n",
              "      <td>24.812030</td>\n",
              "      <td>103.0</td>\n",
              "    </tr>\n",
              "    <tr>\n",
              "      <th>1</th>\n",
              "      <td>Blackburn Rovers</td>\n",
              "      <td>696</td>\n",
              "      <td>262</td>\n",
              "      <td>250</td>\n",
              "      <td>184</td>\n",
              "      <td>927</td>\n",
              "      <td>210</td>\n",
              "      <td>1875</td>\n",
              "      <td>1.0</td>\n",
              "      <td>1</td>\n",
              "      <td>2012</td>\n",
              "      <td>37.643678</td>\n",
              "      <td>35.919540</td>\n",
              "      <td>26.436782</td>\n",
              "      <td>30.172414</td>\n",
              "      <td>133.0</td>\n",
              "    </tr>\n",
              "    <tr>\n",
              "      <th>2</th>\n",
              "      <td>Bolton Wanderers</td>\n",
              "      <td>494</td>\n",
              "      <td>149</td>\n",
              "      <td>217</td>\n",
              "      <td>128</td>\n",
              "      <td>575</td>\n",
              "      <td>108</td>\n",
              "      <td>1874</td>\n",
              "      <td>0.0</td>\n",
              "      <td>0</td>\n",
              "      <td>2012</td>\n",
              "      <td>30.161943</td>\n",
              "      <td>43.927126</td>\n",
              "      <td>25.910931</td>\n",
              "      <td>21.862348</td>\n",
              "      <td>116.0</td>\n",
              "    </tr>\n",
              "    <tr>\n",
              "      <th>3</th>\n",
              "      <td>Bournemouth</td>\n",
              "      <td>219</td>\n",
              "      <td>64</td>\n",
              "      <td>107</td>\n",
              "      <td>48</td>\n",
              "      <td>269</td>\n",
              "      <td>45</td>\n",
              "      <td>1899</td>\n",
              "      <td>0.0</td>\n",
              "      <td>0</td>\n",
              "      <td>2023</td>\n",
              "      <td>29.223744</td>\n",
              "      <td>48.858447</td>\n",
              "      <td>21.917808</td>\n",
              "      <td>20.547945</td>\n",
              "      <td>123.0</td>\n",
              "    </tr>\n",
              "    <tr>\n",
              "      <th>4</th>\n",
              "      <td>Brighton &amp; Hove Albion</td>\n",
              "      <td>218</td>\n",
              "      <td>61</td>\n",
              "      <td>85</td>\n",
              "      <td>72</td>\n",
              "      <td>243</td>\n",
              "      <td>58</td>\n",
              "      <td>1901</td>\n",
              "      <td>0.0</td>\n",
              "      <td>0</td>\n",
              "      <td>2023</td>\n",
              "      <td>27.981651</td>\n",
              "      <td>38.990826</td>\n",
              "      <td>33.027523</td>\n",
              "      <td>26.605505</td>\n",
              "      <td>111.0</td>\n",
              "    </tr>\n",
              "  </tbody>\n",
              "</table>\n",
              "</div>\n",
              "      <button class=\"colab-df-convert\" onclick=\"convertToInteractive('df-df32c8d8-e647-4fca-a4d9-df03b5c7648e')\"\n",
              "              title=\"Convert this dataframe to an interactive table.\"\n",
              "              style=\"display:none;\">\n",
              "        \n",
              "  <svg xmlns=\"http://www.w3.org/2000/svg\" height=\"24px\"viewBox=\"0 0 24 24\"\n",
              "       width=\"24px\">\n",
              "    <path d=\"M0 0h24v24H0V0z\" fill=\"none\"/>\n",
              "    <path d=\"M18.56 5.44l.94 2.06.94-2.06 2.06-.94-2.06-.94-.94-2.06-.94 2.06-2.06.94zm-11 1L8.5 8.5l.94-2.06 2.06-.94-2.06-.94L8.5 2.5l-.94 2.06-2.06.94zm10 10l.94 2.06.94-2.06 2.06-.94-2.06-.94-.94-2.06-.94 2.06-2.06.94z\"/><path d=\"M17.41 7.96l-1.37-1.37c-.4-.4-.92-.59-1.43-.59-.52 0-1.04.2-1.43.59L10.3 9.45l-7.72 7.72c-.78.78-.78 2.05 0 2.83L4 21.41c.39.39.9.59 1.41.59.51 0 1.02-.2 1.41-.59l7.78-7.78 2.81-2.81c.8-.78.8-2.07 0-2.86zM5.41 20L4 18.59l7.72-7.72 1.47 1.35L5.41 20z\"/>\n",
              "  </svg>\n",
              "      </button>\n",
              "      \n",
              "  <style>\n",
              "    .colab-df-container {\n",
              "      display:flex;\n",
              "      flex-wrap:wrap;\n",
              "      gap: 12px;\n",
              "    }\n",
              "\n",
              "    .colab-df-convert {\n",
              "      background-color: #E8F0FE;\n",
              "      border: none;\n",
              "      border-radius: 50%;\n",
              "      cursor: pointer;\n",
              "      display: none;\n",
              "      fill: #1967D2;\n",
              "      height: 32px;\n",
              "      padding: 0 0 0 0;\n",
              "      width: 32px;\n",
              "    }\n",
              "\n",
              "    .colab-df-convert:hover {\n",
              "      background-color: #E2EBFA;\n",
              "      box-shadow: 0px 1px 2px rgba(60, 64, 67, 0.3), 0px 1px 3px 1px rgba(60, 64, 67, 0.15);\n",
              "      fill: #174EA6;\n",
              "    }\n",
              "\n",
              "    [theme=dark] .colab-df-convert {\n",
              "      background-color: #3B4455;\n",
              "      fill: #D2E3FC;\n",
              "    }\n",
              "\n",
              "    [theme=dark] .colab-df-convert:hover {\n",
              "      background-color: #434B5C;\n",
              "      box-shadow: 0px 1px 3px 1px rgba(0, 0, 0, 0.15);\n",
              "      filter: drop-shadow(0px 1px 2px rgba(0, 0, 0, 0.3));\n",
              "      fill: #FFFFFF;\n",
              "    }\n",
              "  </style>\n",
              "\n",
              "      <script>\n",
              "        const buttonEl =\n",
              "          document.querySelector('#df-df32c8d8-e647-4fca-a4d9-df03b5c7648e button.colab-df-convert');\n",
              "        buttonEl.style.display =\n",
              "          google.colab.kernel.accessAllowed ? 'block' : 'none';\n",
              "\n",
              "        async function convertToInteractive(key) {\n",
              "          const element = document.querySelector('#df-df32c8d8-e647-4fca-a4d9-df03b5c7648e');\n",
              "          const dataTable =\n",
              "            await google.colab.kernel.invokeFunction('convertToInteractive',\n",
              "                                                     [key], {});\n",
              "          if (!dataTable) return;\n",
              "\n",
              "          const docLinkHtml = 'Like what you see? Visit the ' +\n",
              "            '<a target=\"_blank\" href=https://colab.research.google.com/notebooks/data_table.ipynb>data table notebook</a>'\n",
              "            + ' to learn more about interactive tables.';\n",
              "          element.innerHTML = '';\n",
              "          dataTable['output_type'] = 'display_data';\n",
              "          await google.colab.output.renderOutput(dataTable, element);\n",
              "          const docLink = document.createElement('div');\n",
              "          docLink.innerHTML = docLinkHtml;\n",
              "          element.appendChild(docLink);\n",
              "        }\n",
              "      </script>\n",
              "    </div>\n",
              "  </div>\n",
              "  "
            ]
          },
          "metadata": {},
          "execution_count": 43
        }
      ]
    },
    {
      "cell_type": "markdown",
      "source": [
        "Our new columns are succesfully added in the dataframe"
      ],
      "metadata": {
        "id": "qskGrpWqETpV"
      }
    },
    {
      "cell_type": "code",
      "source": [
        "# Now let us visualize Winning, Loss, Drawn rate, and Clean Sheet\n",
        "\n",
        "# Set the figure size\n",
        "plt.figure(figsize=(8, 6))\n",
        "\n",
        "# Create the boxplot\n",
        "boxplot = plt.boxplot([df['Winning Rate'], df['Drawn Rate'], df['Loss Rate'], df['Clean Sheet Rate']],\n",
        "                      patch_artist=True,\n",
        "                      labels=['Winning Rate', 'Drawn Rate', 'Loss Rate', 'Clean Sheet Rate'])\n",
        "\n",
        "# Set the title and axis labels\n",
        "plt.title('Distribution of Winning Rate, Drawn Rate, Loss Rate and Clean Sheet Rate')\n",
        "plt.xlabel('Winning, Drawn ,Lost Game & Clean Sheet')\n",
        "plt.ylabel('Rate')\n",
        "\n",
        "# Show the plot\n",
        "plt.show()"
      ],
      "metadata": {
        "colab": {
          "base_uri": "https://localhost:8080/",
          "height": 564
        },
        "id": "wNmv7MahEUGc",
        "outputId": "5454d15f-4544-4684-9f2d-f09ed301e956"
      },
      "execution_count": 46,
      "outputs": [
        {
          "output_type": "display_data",
          "data": {
            "text/plain": [
              "<Figure size 800x600 with 1 Axes>"
            ],
            "image/png": "[encoded data removed]"
          },
          "metadata": {}
        }
      ]
    },
    {
      "cell_type": "markdown",
      "source": [
        "#### Winning Rate\n",
        "\n",
        "We observe that there are a few outliers in the Winning Rate boxplot, which are located above the upper whisker. It is safe to conclude that these outlier clubs have shown exceptional winning rates compared to the other clubs. Let us identify them ahead.\n",
        "\n",
        "Also let us identify the club that has least \"Winning Rate\"\n",
        "\n",
        "#### Drawn Rate\n",
        "\n",
        "We observe an outlier in the drawn rate boxplot, indicating that there is one clubs has a much higher drawn rate compared to others. This may not necessarily be a positive indication, as it suggests that the club may struggle to secure wins in their matches. Going further let us identify which club is this.\n",
        "\n",
        "#### Loss Rate\n",
        "\n",
        "We can see very clearly that loss rates for these clubs are high compared to winning rate.\n",
        "\n",
        "#### Clean Sheet Rate\n",
        "We see that data for Clean Sheet rate is pretty symmetric."
      ],
      "metadata": {
        "id": "PHLoHryjFYVl"
      }
    },
    {
      "cell_type": "code",
      "source": [
        "# Winning Rate further analysis. Identify clubs with high winning rate\n",
        "\n",
        "# Calculate the interquartile range for the \"Winning Rate\" column\n",
        "Q1 = df['Winning Rate'].quantile(0.25)\n",
        "Q3 = df['Winning Rate'].quantile(0.75)\n",
        "IQR = Q3 - Q1\n",
        "\n",
        "# Calculate the upper boundaries for potential outliers <-- Expectional high winning rate compared to other teams\n",
        "upper_bound = Q3 + 1.5 * IQR\n",
        "\n",
        "# Identify the clubs with high winning rate\n",
        "highwinningrate = df[df['Winning Rate']>upper_bound]\n",
        "highwinningrate"
      ],
      "metadata": {
        "colab": {
          "base_uri": "https://localhost:8080/",
          "height": 226
        },
        "id": "nPgfWR5CFdHt",
        "outputId": "2323f19b-83c3-4eda-edbd-7700d73fffaa"
      },
      "execution_count": 47,
      "outputs": [
        {
          "output_type": "execute_result",
          "data": {
            "text/plain": [
              "                Club  Matches Played  Win  Loss  Drawn  Goals  Clean Sheets  \\\n",
              "1   Blackburn Rovers             696  262   250    184    927           210   \n",
              "12      Leeds United             574  223   202    149    784           179   \n",
              "\n",
              "   TeamLaunch  Winners  Runners-up  lastplayed_pl  Winning Rate  Loss Rate  \\\n",
              "1        1875      1.0           1           2012     37.643678  35.919540   \n",
              "12       1919      0.0           0           2023     38.850174  35.191638   \n",
              "\n",
              "    Drawn Rate  Clean Sheet Rate  Avg Goal Per Match  \n",
              "1    26.436782         30.172414               133.0  \n",
              "12   25.958188         31.184669               137.0  "
            ],
            "text/html": [
              "\n",
              "  <div id=\"df-0560997d-f634-40d0-8889-57823f4cbcd7\">\n",
              "    <div class=\"colab-df-container\">\n",
              "      <div>\n",
              "<style scoped>\n",
              "    .dataframe tbody tr th:only-of-type {\n",
              "        vertical-align: middle;\n",
              "    }\n",
              "\n",
              "    .dataframe tbody tr th {\n",
              "        vertical-align: top;\n",
              "    }\n",
              "\n",
              "    .dataframe thead th {\n",
              "        text-align: right;\n",
              "    }\n",
              "</style>\n",
              "<table border=\"1\" class=\"dataframe\">\n",
              "  <thead>\n",
              "    <tr style=\"text-align: right;\">\n",
              "      <th></th>\n",
              "      <th>Club</th>\n",
              "      <th>Matches Played</th>\n",
              "      <th>Win</th>\n",
              "      <th>Loss</th>\n",
              "      <th>Drawn</th>\n",
              "      <th>Goals</th>\n",
              "      <th>Clean Sheets</th>\n",
              "      <th>TeamLaunch</th>\n",
              "      <th>Winners</th>\n",
              "      <th>Runners-up</th>\n",
              "      <th>lastplayed_pl</th>\n",
              "      <th>Winning Rate</th>\n",
              "      <th>Loss Rate</th>\n",
              "      <th>Drawn Rate</th>\n",
              "      <th>Clean Sheet Rate</th>\n",
              "      <th>Avg Goal Per Match</th>\n",
              "    </tr>\n",
              "  </thead>\n",
              "  <tbody>\n",
              "    <tr>\n",
              "      <th>1</th>\n",
              "      <td>Blackburn Rovers</td>\n",
              "      <td>696</td>\n",
              "      <td>262</td>\n",
              "      <td>250</td>\n",
              "      <td>184</td>\n",
              "      <td>927</td>\n",
              "      <td>210</td>\n",
              "      <td>1875</td>\n",
              "      <td>1.0</td>\n",
              "      <td>1</td>\n",
              "      <td>2012</td>\n",
              "      <td>37.643678</td>\n",
              "      <td>35.919540</td>\n",
              "      <td>26.436782</td>\n",
              "      <td>30.172414</td>\n",
              "      <td>133.0</td>\n",
              "    </tr>\n",
              "    <tr>\n",
              "      <th>12</th>\n",
              "      <td>Leeds United</td>\n",
              "      <td>574</td>\n",
              "      <td>223</td>\n",
              "      <td>202</td>\n",
              "      <td>149</td>\n",
              "      <td>784</td>\n",
              "      <td>179</td>\n",
              "      <td>1919</td>\n",
              "      <td>0.0</td>\n",
              "      <td>0</td>\n",
              "      <td>2023</td>\n",
              "      <td>38.850174</td>\n",
              "      <td>35.191638</td>\n",
              "      <td>25.958188</td>\n",
              "      <td>31.184669</td>\n",
              "      <td>137.0</td>\n",
              "    </tr>\n",
              "  </tbody>\n",
              "</table>\n",
              "</div>\n",
              "      <button class=\"colab-df-convert\" onclick=\"convertToInteractive('df-0560997d-f634-40d0-8889-57823f4cbcd7')\"\n",
              "              title=\"Convert this dataframe to an interactive table.\"\n",
              "              style=\"display:none;\">\n",
              "        \n",
              "  <svg xmlns=\"http://www.w3.org/2000/svg\" height=\"24px\"viewBox=\"0 0 24 24\"\n",
              "       width=\"24px\">\n",
              "    <path d=\"M0 0h24v24H0V0z\" fill=\"none\"/>\n",
              "    <path d=\"M18.56 5.44l.94 2.06.94-2.06 2.06-.94-2.06-.94-.94-2.06-.94 2.06-2.06.94zm-11 1L8.5 8.5l.94-2.06 2.06-.94-2.06-.94L8.5 2.5l-.94 2.06-2.06.94zm10 10l.94 2.06.94-2.06 2.06-.94-2.06-.94-.94-2.06-.94 2.06-2.06.94z\"/><path d=\"M17.41 7.96l-1.37-1.37c-.4-.4-.92-.59-1.43-.59-.52 0-1.04.2-1.43.59L10.3 9.45l-7.72 7.72c-.78.78-.78 2.05 0 2.83L4 21.41c.39.39.9.59 1.41.59.51 0 1.02-.2 1.41-.59l7.78-7.78 2.81-2.81c.8-.78.8-2.07 0-2.86zM5.41 20L4 18.59l7.72-7.72 1.47 1.35L5.41 20z\"/>\n",
              "  </svg>\n",
              "      </button>\n",
              "      \n",
              "  <style>\n",
              "    .colab-df-container {\n",
              "      display:flex;\n",
              "      flex-wrap:wrap;\n",
              "      gap: 12px;\n",
              "    }\n",
              "\n",
              "    .colab-df-convert {\n",
              "      background-color: #E8F0FE;\n",
              "      border: none;\n",
              "      border-radius: 50%;\n",
              "      cursor: pointer;\n",
              "      display: none;\n",
              "      fill: #1967D2;\n",
              "      height: 32px;\n",
              "      padding: 0 0 0 0;\n",
              "      width: 32px;\n",
              "    }\n",
              "\n",
              "    .colab-df-convert:hover {\n",
              "      background-color: #E2EBFA;\n",
              "      box-shadow: 0px 1px 2px rgba(60, 64, 67, 0.3), 0px 1px 3px 1px rgba(60, 64, 67, 0.15);\n",
              "      fill: #174EA6;\n",
              "    }\n",
              "\n",
              "    [theme=dark] .colab-df-convert {\n",
              "      background-color: #3B4455;\n",
              "      fill: #D2E3FC;\n",
              "    }\n",
              "\n",
              "    [theme=dark] .colab-df-convert:hover {\n",
              "      background-color: #434B5C;\n",
              "      box-shadow: 0px 1px 3px 1px rgba(0, 0, 0, 0.15);\n",
              "      filter: drop-shadow(0px 1px 2px rgba(0, 0, 0, 0.3));\n",
              "      fill: #FFFFFF;\n",
              "    }\n",
              "  </style>\n",
              "\n",
              "      <script>\n",
              "        const buttonEl =\n",
              "          document.querySelector('#df-0560997d-f634-40d0-8889-57823f4cbcd7 button.colab-df-convert');\n",
              "        buttonEl.style.display =\n",
              "          google.colab.kernel.accessAllowed ? 'block' : 'none';\n",
              "\n",
              "        async function convertToInteractive(key) {\n",
              "          const element = document.querySelector('#df-0560997d-f634-40d0-8889-57823f4cbcd7');\n",
              "          const dataTable =\n",
              "            await google.colab.kernel.invokeFunction('convertToInteractive',\n",
              "                                                     [key], {});\n",
              "          if (!dataTable) return;\n",
              "\n",
              "          const docLinkHtml = 'Like what you see? Visit the ' +\n",
              "            '<a target=\"_blank\" href=https://colab.research.google.com/notebooks/data_table.ipynb>data table notebook</a>'\n",
              "            + ' to learn more about interactive tables.';\n",
              "          element.innerHTML = '';\n",
              "          dataTable['output_type'] = 'display_data';\n",
              "          await google.colab.output.renderOutput(dataTable, element);\n",
              "          const docLink = document.createElement('div');\n",
              "          docLink.innerHTML = docLinkHtml;\n",
              "          element.appendChild(docLink);\n",
              "        }\n",
              "      </script>\n",
              "    </div>\n",
              "  </div>\n",
              "  "
            ]
          },
          "metadata": {},
          "execution_count": 47
        }
      ]
    },
    {
      "cell_type": "markdown",
      "source": [
        "Upon analyzing the data, we have found that two teams, Leeds United and Blackburn Rovers, have exceptionally high winning rates of 39% and 38% respectively."
      ],
      "metadata": {
        "id": "hBqmEfUzGZIN"
      }
    },
    {
      "cell_type": "code",
      "source": [
        "# Winning Rate further analysis. Identify club with low winning rate\n",
        "\n",
        "# Calculate the lower boundaries for potential outliers <-- Low winning rate compared to other teams\n",
        "\n",
        "lower_bound = Q1 - 1.5 * IQR\n",
        "\n",
        "# Identify the clubs with lowest winning rate\n",
        "lowwinningrate = df[df['Winning Rate']<lower_bound]\n",
        "lowwinningrate"
      ],
      "metadata": {
        "colab": {
          "base_uri": "https://localhost:8080/",
          "height": 159
        },
        "id": "6Do8QuhiGeno",
        "outputId": "0baf70b1-7ea8-4311-fdd8-b779135aada8"
      },
      "execution_count": 48,
      "outputs": [
        {
          "output_type": "execute_result",
          "data": {
            "text/plain": [
              "         Club  Matches Played  Win  Loss  Drawn  Goals  Clean Sheets  \\\n",
              "17  Hull City             190   41   101     48    181            58   \n",
              "\n",
              "   TeamLaunch  Winners  Runners-up  lastplayed_pl  Winning Rate  Loss Rate  \\\n",
              "17       1904      0.0           0           2017     21.578947  53.157895   \n",
              "\n",
              "    Drawn Rate  Clean Sheet Rate  Avg Goal Per Match  \n",
              "17   25.263158         30.526316                95.0  "
            ],
            "text/html": [
              "\n",
              "  <div id=\"df-17f8c49f-07e8-465b-8303-b7cc334511b9\">\n",
              "    <div class=\"colab-df-container\">\n",
              "      <div>\n",
              "<style scoped>\n",
              "    .dataframe tbody tr th:only-of-type {\n",
              "        vertical-align: middle;\n",
              "    }\n",
              "\n",
              "    .dataframe tbody tr th {\n",
              "        vertical-align: top;\n",
              "    }\n",
              "\n",
              "    .dataframe thead th {\n",
              "        text-align: right;\n",
              "    }\n",
              "</style>\n",
              "<table border=\"1\" class=\"dataframe\">\n",
              "  <thead>\n",
              "    <tr style=\"text-align: right;\">\n",
              "      <th></th>\n",
              "      <th>Club</th>\n",
              "      <th>Matches Played</th>\n",
              "      <th>Win</th>\n",
              "      <th>Loss</th>\n",
              "      <th>Drawn</th>\n",
              "      <th>Goals</th>\n",
              "      <th>Clean Sheets</th>\n",
              "      <th>TeamLaunch</th>\n",
              "      <th>Winners</th>\n",
              "      <th>Runners-up</th>\n",
              "      <th>lastplayed_pl</th>\n",
              "      <th>Winning Rate</th>\n",
              "      <th>Loss Rate</th>\n",
              "      <th>Drawn Rate</th>\n",
              "      <th>Clean Sheet Rate</th>\n",
              "      <th>Avg Goal Per Match</th>\n",
              "    </tr>\n",
              "  </thead>\n",
              "  <tbody>\n",
              "    <tr>\n",
              "      <th>17</th>\n",
              "      <td>Hull City</td>\n",
              "      <td>190</td>\n",
              "      <td>41</td>\n",
              "      <td>101</td>\n",
              "      <td>48</td>\n",
              "      <td>181</td>\n",
              "      <td>58</td>\n",
              "      <td>1904</td>\n",
              "      <td>0.0</td>\n",
              "      <td>0</td>\n",
              "      <td>2017</td>\n",
              "      <td>21.578947</td>\n",
              "      <td>53.157895</td>\n",
              "      <td>25.263158</td>\n",
              "      <td>30.526316</td>\n",
              "      <td>95.0</td>\n",
              "    </tr>\n",
              "  </tbody>\n",
              "</table>\n",
              "</div>\n",
              "      <button class=\"colab-df-convert\" onclick=\"convertToInteractive('df-17f8c49f-07e8-465b-8303-b7cc334511b9')\"\n",
              "              title=\"Convert this dataframe to an interactive table.\"\n",
              "              style=\"display:none;\">\n",
              "        \n",
              "  <svg xmlns=\"http://www.w3.org/2000/svg\" height=\"24px\"viewBox=\"0 0 24 24\"\n",
              "       width=\"24px\">\n",
              "    <path d=\"M0 0h24v24H0V0z\" fill=\"none\"/>\n",
              "    <path d=\"M18.56 5.44l.94 2.06.94-2.06 2.06-.94-2.06-.94-.94-2.06-.94 2.06-2.06.94zm-11 1L8.5 8.5l.94-2.06 2.06-.94-2.06-.94L8.5 2.5l-.94 2.06-2.06.94zm10 10l.94 2.06.94-2.06 2.06-.94-2.06-.94-.94-2.06-.94 2.06-2.06.94z\"/><path d=\"M17.41 7.96l-1.37-1.37c-.4-.4-.92-.59-1.43-.59-.52 0-1.04.2-1.43.59L10.3 9.45l-7.72 7.72c-.78.78-.78 2.05 0 2.83L4 21.41c.39.39.9.59 1.41.59.51 0 1.02-.2 1.41-.59l7.78-7.78 2.81-2.81c.8-.78.8-2.07 0-2.86zM5.41 20L4 18.59l7.72-7.72 1.47 1.35L5.41 20z\"/>\n",
              "  </svg>\n",
              "      </button>\n",
              "      \n",
              "  <style>\n",
              "    .colab-df-container {\n",
              "      display:flex;\n",
              "      flex-wrap:wrap;\n",
              "      gap: 12px;\n",
              "    }\n",
              "\n",
              "    .colab-df-convert {\n",
              "      background-color: #E8F0FE;\n",
              "      border: none;\n",
              "      border-radius: 50%;\n",
              "      cursor: pointer;\n",
              "      display: none;\n",
              "      fill: #1967D2;\n",
              "      height: 32px;\n",
              "      padding: 0 0 0 0;\n",
              "      width: 32px;\n",
              "    }\n",
              "\n",
              "    .colab-df-convert:hover {\n",
              "      background-color: #E2EBFA;\n",
              "      box-shadow: 0px 1px 2px rgba(60, 64, 67, 0.3), 0px 1px 3px 1px rgba(60, 64, 67, 0.15);\n",
              "      fill: #174EA6;\n",
              "    }\n",
              "\n",
              "    [theme=dark] .colab-df-convert {\n",
              "      background-color: #3B4455;\n",
              "      fill: #D2E3FC;\n",
              "    }\n",
              "\n",
              "    [theme=dark] .colab-df-convert:hover {\n",
              "      background-color: #434B5C;\n",
              "      box-shadow: 0px 1px 3px 1px rgba(0, 0, 0, 0.15);\n",
              "      filter: drop-shadow(0px 1px 2px rgba(0, 0, 0, 0.3));\n",
              "      fill: #FFFFFF;\n",
              "    }\n",
              "  </style>\n",
              "\n",
              "      <script>\n",
              "        const buttonEl =\n",
              "          document.querySelector('#df-17f8c49f-07e8-465b-8303-b7cc334511b9 button.colab-df-convert');\n",
              "        buttonEl.style.display =\n",
              "          google.colab.kernel.accessAllowed ? 'block' : 'none';\n",
              "\n",
              "        async function convertToInteractive(key) {\n",
              "          const element = document.querySelector('#df-17f8c49f-07e8-465b-8303-b7cc334511b9');\n",
              "          const dataTable =\n",
              "            await google.colab.kernel.invokeFunction('convertToInteractive',\n",
              "                                                     [key], {});\n",
              "          if (!dataTable) return;\n",
              "\n",
              "          const docLinkHtml = 'Like what you see? Visit the ' +\n",
              "            '<a target=\"_blank\" href=https://colab.research.google.com/notebooks/data_table.ipynb>data table notebook</a>'\n",
              "            + ' to learn more about interactive tables.';\n",
              "          element.innerHTML = '';\n",
              "          dataTable['output_type'] = 'display_data';\n",
              "          await google.colab.output.renderOutput(dataTable, element);\n",
              "          const docLink = document.createElement('div');\n",
              "          docLink.innerHTML = docLinkHtml;\n",
              "          element.appendChild(docLink);\n",
              "        }\n",
              "      </script>\n",
              "    </div>\n",
              "  </div>\n",
              "  "
            ]
          },
          "metadata": {},
          "execution_count": 48
        }
      ]
    },
    {
      "cell_type": "markdown",
      "source": [
        "Club is lowest winning rate of 22% is Hull City"
      ],
      "metadata": {
        "id": "ASg7WxS0H4Pt"
      }
    },
    {
      "cell_type": "code",
      "source": [
        "# Drawn Rate further analysis. Identify club with high drawn rate\n",
        "# Calculate the interquartile range for the \"Drawn Rate\" column\n",
        "Q1 = df['Drawn Rate'].quantile(0.25)\n",
        "Q3 = df['Drawn Rate'].quantile(0.75)\n",
        "IQR = Q3 - Q1\n",
        "\n",
        "# Calculate the upper boundaries for potential outliers <-- Expectional high winning rate compared to other teams\n",
        "upper_bound = Q3 + 1.5 * IQR\n",
        "\n",
        "# Identify the clubs with high winning rate\n",
        "highdrawrate = df[(df['Drawn Rate'] > upper_bound)]\n",
        "highdrawrate"
      ],
      "metadata": {
        "colab": {
          "base_uri": "https://localhost:8080/",
          "height": 177
        },
        "id": "UVp-PqBiH43m",
        "outputId": "2e15d98a-0faf-497d-c7c0-fc86f537929c"
      },
      "execution_count": 53,
      "outputs": [
        {
          "output_type": "execute_result",
          "data": {
            "text/plain": [
              "                     Club  Matches Played  Win  Loss  Drawn  Goals  \\\n",
              "4  Brighton & Hove Albion             218   61    85     72    243   \n",
              "\n",
              "   Clean Sheets TeamLaunch  Winners  Runners-up  lastplayed_pl  Winning Rate  \\\n",
              "4            58       1901      0.0           0           2023     27.981651   \n",
              "\n",
              "   Loss Rate  Drawn Rate  Clean Sheet Rate  Avg Goal Per Match  \n",
              "4  38.990826   33.027523         26.605505               111.0  "
            ],
            "text/html": [
              "\n",
              "  <div id=\"df-7ba2463a-3b53-4bdf-86d2-50823fb3ef9d\">\n",
              "    <div class=\"colab-df-container\">\n",
              "      <div>\n",
              "<style scoped>\n",
              "    .dataframe tbody tr th:only-of-type {\n",
              "        vertical-align: middle;\n",
              "    }\n",
              "\n",
              "    .dataframe tbody tr th {\n",
              "        vertical-align: top;\n",
              "    }\n",
              "\n",
              "    .dataframe thead th {\n",
              "        text-align: right;\n",
              "    }\n",
              "</style>\n",
              "<table border=\"1\" class=\"dataframe\">\n",
              "  <thead>\n",
              "    <tr style=\"text-align: right;\">\n",
              "      <th></th>\n",
              "      <th>Club</th>\n",
              "      <th>Matches Played</th>\n",
              "      <th>Win</th>\n",
              "      <th>Loss</th>\n",
              "      <th>Drawn</th>\n",
              "      <th>Goals</th>\n",
              "      <th>Clean Sheets</th>\n",
              "      <th>TeamLaunch</th>\n",
              "      <th>Winners</th>\n",
              "      <th>Runners-up</th>\n",
              "      <th>lastplayed_pl</th>\n",
              "      <th>Winning Rate</th>\n",
              "      <th>Loss Rate</th>\n",
              "      <th>Drawn Rate</th>\n",
              "      <th>Clean Sheet Rate</th>\n",
              "      <th>Avg Goal Per Match</th>\n",
              "    </tr>\n",
              "  </thead>\n",
              "  <tbody>\n",
              "    <tr>\n",
              "      <th>4</th>\n",
              "      <td>Brighton &amp; Hove Albion</td>\n",
              "      <td>218</td>\n",
              "      <td>61</td>\n",
              "      <td>85</td>\n",
              "      <td>72</td>\n",
              "      <td>243</td>\n",
              "      <td>58</td>\n",
              "      <td>1901</td>\n",
              "      <td>0.0</td>\n",
              "      <td>0</td>\n",
              "      <td>2023</td>\n",
              "      <td>27.981651</td>\n",
              "      <td>38.990826</td>\n",
              "      <td>33.027523</td>\n",
              "      <td>26.605505</td>\n",
              "      <td>111.0</td>\n",
              "    </tr>\n",
              "  </tbody>\n",
              "</table>\n",
              "</div>\n",
              "      <button class=\"colab-df-convert\" onclick=\"convertToInteractive('df-7ba2463a-3b53-4bdf-86d2-50823fb3ef9d')\"\n",
              "              title=\"Convert this dataframe to an interactive table.\"\n",
              "              style=\"display:none;\">\n",
              "        \n",
              "  <svg xmlns=\"http://www.w3.org/2000/svg\" height=\"24px\"viewBox=\"0 0 24 24\"\n",
              "       width=\"24px\">\n",
              "    <path d=\"M0 0h24v24H0V0z\" fill=\"none\"/>\n",
              "    <path d=\"M18.56 5.44l.94 2.06.94-2.06 2.06-.94-2.06-.94-.94-2.06-.94 2.06-2.06.94zm-11 1L8.5 8.5l.94-2.06 2.06-.94-2.06-.94L8.5 2.5l-.94 2.06-2.06.94zm10 10l.94 2.06.94-2.06 2.06-.94-2.06-.94-.94-2.06-.94 2.06-2.06.94z\"/><path d=\"M17.41 7.96l-1.37-1.37c-.4-.4-.92-.59-1.43-.59-.52 0-1.04.2-1.43.59L10.3 9.45l-7.72 7.72c-.78.78-.78 2.05 0 2.83L4 21.41c.39.39.9.59 1.41.59.51 0 1.02-.2 1.41-.59l7.78-7.78 2.81-2.81c.8-.78.8-2.07 0-2.86zM5.41 20L4 18.59l7.72-7.72 1.47 1.35L5.41 20z\"/>\n",
              "  </svg>\n",
              "      </button>\n",
              "      \n",
              "  <style>\n",
              "    .colab-df-container {\n",
              "      display:flex;\n",
              "      flex-wrap:wrap;\n",
              "      gap: 12px;\n",
              "    }\n",
              "\n",
              "    .colab-df-convert {\n",
              "      background-color: #E8F0FE;\n",
              "      border: none;\n",
              "      border-radius: 50%;\n",
              "      cursor: pointer;\n",
              "      display: none;\n",
              "      fill: #1967D2;\n",
              "      height: 32px;\n",
              "      padding: 0 0 0 0;\n",
              "      width: 32px;\n",
              "    }\n",
              "\n",
              "    .colab-df-convert:hover {\n",
              "      background-color: #E2EBFA;\n",
              "      box-shadow: 0px 1px 2px rgba(60, 64, 67, 0.3), 0px 1px 3px 1px rgba(60, 64, 67, 0.15);\n",
              "      fill: #174EA6;\n",
              "    }\n",
              "\n",
              "    [theme=dark] .colab-df-convert {\n",
              "      background-color: #3B4455;\n",
              "      fill: #D2E3FC;\n",
              "    }\n",
              "\n",
              "    [theme=dark] .colab-df-convert:hover {\n",
              "      background-color: #434B5C;\n",
              "      box-shadow: 0px 1px 3px 1px rgba(0, 0, 0, 0.15);\n",
              "      filter: drop-shadow(0px 1px 2px rgba(0, 0, 0, 0.3));\n",
              "      fill: #FFFFFF;\n",
              "    }\n",
              "  </style>\n",
              "\n",
              "      <script>\n",
              "        const buttonEl =\n",
              "          document.querySelector('#df-7ba2463a-3b53-4bdf-86d2-50823fb3ef9d button.colab-df-convert');\n",
              "        buttonEl.style.display =\n",
              "          google.colab.kernel.accessAllowed ? 'block' : 'none';\n",
              "\n",
              "        async function convertToInteractive(key) {\n",
              "          const element = document.querySelector('#df-7ba2463a-3b53-4bdf-86d2-50823fb3ef9d');\n",
              "          const dataTable =\n",
              "            await google.colab.kernel.invokeFunction('convertToInteractive',\n",
              "                                                     [key], {});\n",
              "          if (!dataTable) return;\n",
              "\n",
              "          const docLinkHtml = 'Like what you see? Visit the ' +\n",
              "            '<a target=\"_blank\" href=https://colab.research.google.com/notebooks/data_table.ipynb>data table notebook</a>'\n",
              "            + ' to learn more about interactive tables.';\n",
              "          element.innerHTML = '';\n",
              "          dataTable['output_type'] = 'display_data';\n",
              "          await google.colab.output.renderOutput(dataTable, element);\n",
              "          const docLink = document.createElement('div');\n",
              "          docLink.innerHTML = docLinkHtml;\n",
              "          element.appendChild(docLink);\n",
              "        }\n",
              "      </script>\n",
              "    </div>\n",
              "  </div>\n",
              "  "
            ]
          },
          "metadata": {},
          "execution_count": 53
        }
      ]
    },
    {
      "cell_type": "markdown",
      "source": [
        "Brighton & Hove Albion is expectionally high Drawn Rate of 33%"
      ],
      "metadata": {
        "id": "-rxo67OMIGes"
      }
    },
    {
      "cell_type": "code",
      "source": [
        "# Now let us explore 'Avg Goals Per Match' column\n",
        "\n",
        "df['Avg Goal Per Match'].describe()"
      ],
      "metadata": {
        "colab": {
          "base_uri": "https://localhost:8080/"
        },
        "id": "OV42HzReIHA8",
        "outputId": "4af7d316-62ea-4bba-be61-1c90283ac6e1"
      },
      "execution_count": 57,
      "outputs": [
        {
          "output_type": "execute_result",
          "data": {
            "text/plain": [
              "count    29.0\n",
              "mean      1.0\n",
              "std       0.0\n",
              "min       1.0\n",
              "25%       1.0\n",
              "50%       1.0\n",
              "75%       1.0\n",
              "max       1.0\n",
              "Name: Avg Goal Per Match, dtype: float64"
            ]
          },
          "metadata": {},
          "execution_count": 57
        }
      ]
    },
    {
      "cell_type": "markdown",
      "source": [
        "As you can see we can't infer much from this metric. Therefore we will not use it for further analysis."
      ],
      "metadata": {
        "id": "RbJ0N6kKIhqW"
      }
    },
    {
      "cell_type": "code",
      "source": [
        "# Let us explore columns 'Winners' and 'Runners-up'\n",
        "df['Winners'].value_counts()"
      ],
      "metadata": {
        "colab": {
          "base_uri": "https://localhost:8080/"
        },
        "id": "DTZv3pphIlqm",
        "outputId": "95e25047-661f-4b30-fc8f-01824b066a78"
      },
      "execution_count": 58,
      "outputs": [
        {
          "output_type": "execute_result",
          "data": {
            "text/plain": [
              "0.0    27\n",
              "1.0     2\n",
              "Name: Winners, dtype: int64"
            ]
          },
          "metadata": {},
          "execution_count": 58
        }
      ]
    },
    {
      "cell_type": "markdown",
      "source": [
        "We observe that out of the 29 clubs, only 2 clubs have won the Premier League, and one club has been a runner-up. Let us identify these clubs"
      ],
      "metadata": {
        "id": "eQx5uOWrIuV2"
      }
    },
    {
      "cell_type": "code",
      "source": [
        "df[(df['Winners']==1) | (df['Drawn']==1) ]['Club']"
      ],
      "metadata": {
        "colab": {
          "base_uri": "https://localhost:8080/"
        },
        "id": "p5LZmG3NIxPE",
        "outputId": "f48df7a6-6301-4447-a6a9-ca99338333a7"
      },
      "execution_count": 60,
      "outputs": [
        {
          "output_type": "execute_result",
          "data": {
            "text/plain": [
              "1     Blackburn Rovers\n",
              "13      Leicester City\n",
              "Name: Club, dtype: object"
            ]
          },
          "metadata": {},
          "execution_count": 60
        }
      ]
    },
    {
      "cell_type": "markdown",
      "source": [
        "Blackburn Rovers have won Premier League once and been an Runners-up once and Leicester City has won Premier League once."
      ],
      "metadata": {
        "id": "4If-NfJwJNed"
      }
    },
    {
      "cell_type": "code",
      "source": [
        "# Lets us again analyse Matches Played Column for our reduced dataframe (29 clubs).\n",
        "\n",
        "df['Matches Played'].describe()"
      ],
      "metadata": {
        "colab": {
          "base_uri": "https://localhost:8080/"
        },
        "id": "mN50v4dnJOXd",
        "outputId": "51d9b914-cbb9-449b-aefd-8310e7aefac2"
      },
      "execution_count": 61,
      "outputs": [
        {
          "output_type": "execute_result",
          "data": {
            "text/plain": [
              "count     29.000000\n",
              "mean     372.482759\n",
              "std      153.533296\n",
              "min      190.000000\n",
              "25%      266.000000\n",
              "50%      305.000000\n",
              "75%      494.000000\n",
              "max      696.000000\n",
              "Name: Matches Played, dtype: float64"
            ]
          },
          "metadata": {},
          "execution_count": 61
        }
      ]
    },
    {
      "cell_type": "markdown",
      "source": [
        "Average matches played are 372."
      ],
      "metadata": {
        "id": "wHfVfgYVJUyF"
      }
    },
    {
      "cell_type": "code",
      "source": [
        "# Let us look at \"lastplayed_pl\" column\n",
        "df['lastplayed_pl'].value_counts()"
      ],
      "metadata": {
        "colab": {
          "base_uri": "https://localhost:8080/"
        },
        "id": "IJkN7REMJXYF",
        "outputId": "89383d3f-bca3-404b-b303-0bd7d7151c6b"
      },
      "execution_count": 62,
      "outputs": [
        {
          "output_type": "execute_result",
          "data": {
            "text/plain": [
              "2023    8\n",
              "2022    3\n",
              "2017    3\n",
              "2018    3\n",
              "2012    2\n",
              "2011    1\n",
              "2007    1\n",
              "2001    1\n",
              "2008    1\n",
              "2002    1\n",
              "2015    1\n",
              "2021    1\n",
              "2000    1\n",
              "2013    1\n",
              "2010    1\n",
              "Name: lastplayed_pl, dtype: int64"
            ]
          },
          "metadata": {},
          "execution_count": 62
        }
      ]
    },
    {
      "cell_type": "markdown",
      "source": [
        "Out of the total 29 teams, eight are currently playing in the Premier League. Since these teams are currently active in the league, it makes sense to prioritize them in our analysis. However, there are also teams that date back as early as 2000. It may be appropriate to assign these teams less weight."
      ],
      "metadata": {
        "id": "1YXdiqHYJcbt"
      }
    },
    {
      "cell_type": "code",
      "source": [
        "# Let us check the eight teams that are currently playing in the Premier League\n",
        "df[df['lastplayed_pl']==2023]['Club']"
      ],
      "metadata": {
        "colab": {
          "base_uri": "https://localhost:8080/"
        },
        "id": "guMftv2GJdLl",
        "outputId": "d61e8585-179b-4df9-cbe9-abd5deaead9e"
      },
      "execution_count": 63,
      "outputs": [
        {
          "output_type": "execute_result",
          "data": {
            "text/plain": [
              "3                 Bournemouth\n",
              "4      Brighton & Hove Albion\n",
              "8              Crystal Palace\n",
              "10                     Fulham\n",
              "12               Leeds United\n",
              "13             Leicester City\n",
              "16          Nottingham Forest\n",
              "27    Wolverhampton Wanderers\n",
              "Name: Club, dtype: object"
            ]
          },
          "metadata": {},
          "execution_count": 63
        }
      ]
    },
    {
      "cell_type": "markdown",
      "source": [
        "Giving more priority to teams that have more recent experience playing in the Premier League is ideal. When making the final decision, we will assign higher weight to teams that have played more recently, and lesser weight to those that have not played recently."
      ],
      "metadata": {
        "id": "Am-yk6-hJtI0"
      }
    },
    {
      "cell_type": "markdown",
      "source": [
        "### Final Recommendations Framework"
      ],
      "metadata": {
        "id": "3EEqeBqXJyCV"
      }
    },
    {
      "cell_type": "markdown",
      "source": [
        "Let's create a plan to Score each team on the pre defined metric.\n",
        "\n",
        "* Give a score of 10 if club have a relatively high experience in the Premier League above average (372)\n",
        "* Give a score of 15 if club has winning rate above Q3\n",
        "* Give a score of 15 if club has lossing rate below Q1\n",
        "* Give a score of 10 if club drawn rate below Q1 and losing rate is below Q1\n",
        "* Give a score of 10 if club has clean sheet above Q3 and winning rate is above Q3\n",
        "* Give a score of 15 if club has won premier league\n",
        "* Give a score of 10 if club has been a runners-up in premier league\n",
        "* Give a score of 15 if club has been currently playing in premier league"
      ],
      "metadata": {
        "id": "6KPs_0zFJz7I"
      }
    },
    {
      "cell_type": "code",
      "source": [
        "# Calculate the upper bound for the \"Winning Rate\" column\n",
        "upper_bound_WinningRate = df['Winning Rate'].quantile(0.75)\n",
        "\n",
        "# Calculate the lower bound for the \"Loss Rate\" column\n",
        "lower_bound_LosingRate = df['Loss Rate'].quantile(0.25)\n",
        "\n",
        "# Calculate the lower bound for the \"Drawn Rate\" column\n",
        "lower_bound_DrawnRate = df['Drawn Rate'].quantile(0.25)\n",
        "\n",
        "# Calculate the upper bound for the \"Drawn Rate\" column\n",
        "upper_bound_CleanSheetRate = df['Clean Sheet Rate'].quantile(0.75)"
      ],
      "metadata": {
        "id": "2vvzjNRDKB6O"
      },
      "execution_count": 64,
      "outputs": []
    },
    {
      "cell_type": "code",
      "source": [
        "#Create column for scores\n",
        "df['scores']=np.zeros(len(df))"
      ],
      "metadata": {
        "id": "b7u-I3YjKGjF"
      },
      "execution_count": 65,
      "outputs": []
    },
    {
      "cell_type": "code",
      "source": [
        "df.head()"
      ],
      "metadata": {
        "colab": {
          "base_uri": "https://localhost:8080/",
          "height": 372
        },
        "id": "FDR-HqyAKNw2",
        "outputId": "6d33f3c9-4948-44b0-9404-979b111fa3b4"
      },
      "execution_count": 66,
      "outputs": [
        {
          "output_type": "execute_result",
          "data": {
            "text/plain": [
              "                     Club  Matches Played  Win  Loss  Drawn  Goals  \\\n",
              "0         Birmingham City             266   73   111     82    273   \n",
              "1        Blackburn Rovers             696  262   250    184    927   \n",
              "2        Bolton Wanderers             494  149   217    128    575   \n",
              "3             Bournemouth             219   64   107     48    269   \n",
              "4  Brighton & Hove Albion             218   61    85     72    243   \n",
              "\n",
              "   Clean Sheets TeamLaunch  Winners  Runners-up  lastplayed_pl  Winning Rate  \\\n",
              "0            66       1875      0.0           0           2011     27.443609   \n",
              "1           210       1875      1.0           1           2012     37.643678   \n",
              "2           108       1874      0.0           0           2012     30.161943   \n",
              "3            45       1899      0.0           0           2023     29.223744   \n",
              "4            58       1901      0.0           0           2023     27.981651   \n",
              "\n",
              "   Loss Rate  Drawn Rate  Clean Sheet Rate  Avg Goal Per Match  scores  \n",
              "0  41.729323   30.827068         24.812030                 1.0     0.0  \n",
              "1  35.919540   26.436782         30.172414                 1.0     0.0  \n",
              "2  43.927126   25.910931         21.862348                 1.0     0.0  \n",
              "3  48.858447   21.917808         20.547945                 1.0     0.0  \n",
              "4  38.990826   33.027523         26.605505                 1.0     0.0  "
            ],
            "text/html": [
              "\n",
              "  <div id=\"df-30e6213b-d14a-4018-84d2-48bade9bacb5\">\n",
              "    <div class=\"colab-df-container\">\n",
              "      <div>\n",
              "<style scoped>\n",
              "    .dataframe tbody tr th:only-of-type {\n",
              "        vertical-align: middle;\n",
              "    }\n",
              "\n",
              "    .dataframe tbody tr th {\n",
              "        vertical-align: top;\n",
              "    }\n",
              "\n",
              "    .dataframe thead th {\n",
              "        text-align: right;\n",
              "    }\n",
              "</style>\n",
              "<table border=\"1\" class=\"dataframe\">\n",
              "  <thead>\n",
              "    <tr style=\"text-align: right;\">\n",
              "      <th></th>\n",
              "      <th>Club</th>\n",
              "      <th>Matches Played</th>\n",
              "      <th>Win</th>\n",
              "      <th>Loss</th>\n",
              "      <th>Drawn</th>\n",
              "      <th>Goals</th>\n",
              "      <th>Clean Sheets</th>\n",
              "      <th>TeamLaunch</th>\n",
              "      <th>Winners</th>\n",
              "      <th>Runners-up</th>\n",
              "      <th>lastplayed_pl</th>\n",
              "      <th>Winning Rate</th>\n",
              "      <th>Loss Rate</th>\n",
              "      <th>Drawn Rate</th>\n",
              "      <th>Clean Sheet Rate</th>\n",
              "      <th>Avg Goal Per Match</th>\n",
              "      <th>scores</th>\n",
              "    </tr>\n",
              "  </thead>\n",
              "  <tbody>\n",
              "    <tr>\n",
              "      <th>0</th>\n",
              "      <td>Birmingham City</td>\n",
              "      <td>266</td>\n",
              "      <td>73</td>\n",
              "      <td>111</td>\n",
              "      <td>82</td>\n",
              "      <td>273</td>\n",
              "      <td>66</td>\n",
              "      <td>1875</td>\n",
              "      <td>0.0</td>\n",
              "      <td>0</td>\n",
              "      <td>2011</td>\n",
              "      <td>27.443609</td>\n",
              "      <td>41.729323</td>\n",
              "      <td>30.827068</td>\n",
              "      <td>24.812030</td>\n",
              "      <td>1.0</td>\n",
              "      <td>0.0</td>\n",
              "    </tr>\n",
              "    <tr>\n",
              "      <th>1</th>\n",
              "      <td>Blackburn Rovers</td>\n",
              "      <td>696</td>\n",
              "      <td>262</td>\n",
              "      <td>250</td>\n",
              "      <td>184</td>\n",
              "      <td>927</td>\n",
              "      <td>210</td>\n",
              "      <td>1875</td>\n",
              "      <td>1.0</td>\n",
              "      <td>1</td>\n",
              "      <td>2012</td>\n",
              "      <td>37.643678</td>\n",
              "      <td>35.919540</td>\n",
              "      <td>26.436782</td>\n",
              "      <td>30.172414</td>\n",
              "      <td>1.0</td>\n",
              "      <td>0.0</td>\n",
              "    </tr>\n",
              "    <tr>\n",
              "      <th>2</th>\n",
              "      <td>Bolton Wanderers</td>\n",
              "      <td>494</td>\n",
              "      <td>149</td>\n",
              "      <td>217</td>\n",
              "      <td>128</td>\n",
              "      <td>575</td>\n",
              "      <td>108</td>\n",
              "      <td>1874</td>\n",
              "      <td>0.0</td>\n",
              "      <td>0</td>\n",
              "      <td>2012</td>\n",
              "      <td>30.161943</td>\n",
              "      <td>43.927126</td>\n",
              "      <td>25.910931</td>\n",
              "      <td>21.862348</td>\n",
              "      <td>1.0</td>\n",
              "      <td>0.0</td>\n",
              "    </tr>\n",
              "    <tr>\n",
              "      <th>3</th>\n",
              "      <td>Bournemouth</td>\n",
              "      <td>219</td>\n",
              "      <td>64</td>\n",
              "      <td>107</td>\n",
              "      <td>48</td>\n",
              "      <td>269</td>\n",
              "      <td>45</td>\n",
              "      <td>1899</td>\n",
              "      <td>0.0</td>\n",
              "      <td>0</td>\n",
              "      <td>2023</td>\n",
              "      <td>29.223744</td>\n",
              "      <td>48.858447</td>\n",
              "      <td>21.917808</td>\n",
              "      <td>20.547945</td>\n",
              "      <td>1.0</td>\n",
              "      <td>0.0</td>\n",
              "    </tr>\n",
              "    <tr>\n",
              "      <th>4</th>\n",
              "      <td>Brighton &amp; Hove Albion</td>\n",
              "      <td>218</td>\n",
              "      <td>61</td>\n",
              "      <td>85</td>\n",
              "      <td>72</td>\n",
              "      <td>243</td>\n",
              "      <td>58</td>\n",
              "      <td>1901</td>\n",
              "      <td>0.0</td>\n",
              "      <td>0</td>\n",
              "      <td>2023</td>\n",
              "      <td>27.981651</td>\n",
              "      <td>38.990826</td>\n",
              "      <td>33.027523</td>\n",
              "      <td>26.605505</td>\n",
              "      <td>1.0</td>\n",
              "      <td>0.0</td>\n",
              "    </tr>\n",
              "  </tbody>\n",
              "</table>\n",
              "</div>\n",
              "      <button class=\"colab-df-convert\" onclick=\"convertToInteractive('df-30e6213b-d14a-4018-84d2-48bade9bacb5')\"\n",
              "              title=\"Convert this dataframe to an interactive table.\"\n",
              "              style=\"display:none;\">\n",
              "        \n",
              "  <svg xmlns=\"http://www.w3.org/2000/svg\" height=\"24px\"viewBox=\"0 0 24 24\"\n",
              "       width=\"24px\">\n",
              "    <path d=\"M0 0h24v24H0V0z\" fill=\"none\"/>\n",
              "    <path d=\"M18.56 5.44l.94 2.06.94-2.06 2.06-.94-2.06-.94-.94-2.06-.94 2.06-2.06.94zm-11 1L8.5 8.5l.94-2.06 2.06-.94-2.06-.94L8.5 2.5l-.94 2.06-2.06.94zm10 10l.94 2.06.94-2.06 2.06-.94-2.06-.94-.94-2.06-.94 2.06-2.06.94z\"/><path d=\"M17.41 7.96l-1.37-1.37c-.4-.4-.92-.59-1.43-.59-.52 0-1.04.2-1.43.59L10.3 9.45l-7.72 7.72c-.78.78-.78 2.05 0 2.83L4 21.41c.39.39.9.59 1.41.59.51 0 1.02-.2 1.41-.59l7.78-7.78 2.81-2.81c.8-.78.8-2.07 0-2.86zM5.41 20L4 18.59l7.72-7.72 1.47 1.35L5.41 20z\"/>\n",
              "  </svg>\n",
              "      </button>\n",
              "      \n",
              "  <style>\n",
              "    .colab-df-container {\n",
              "      display:flex;\n",
              "      flex-wrap:wrap;\n",
              "      gap: 12px;\n",
              "    }\n",
              "\n",
              "    .colab-df-convert {\n",
              "      background-color: #E8F0FE;\n",
              "      border: none;\n",
              "      border-radius: 50%;\n",
              "      cursor: pointer;\n",
              "      display: none;\n",
              "      fill: #1967D2;\n",
              "      height: 32px;\n",
              "      padding: 0 0 0 0;\n",
              "      width: 32px;\n",
              "    }\n",
              "\n",
              "    .colab-df-convert:hover {\n",
              "      background-color: #E2EBFA;\n",
              "      box-shadow: 0px 1px 2px rgba(60, 64, 67, 0.3), 0px 1px 3px 1px rgba(60, 64, 67, 0.15);\n",
              "      fill: #174EA6;\n",
              "    }\n",
              "\n",
              "    [theme=dark] .colab-df-convert {\n",
              "      background-color: #3B4455;\n",
              "      fill: #D2E3FC;\n",
              "    }\n",
              "\n",
              "    [theme=dark] .colab-df-convert:hover {\n",
              "      background-color: #434B5C;\n",
              "      box-shadow: 0px 1px 3px 1px rgba(0, 0, 0, 0.15);\n",
              "      filter: drop-shadow(0px 1px 2px rgba(0, 0, 0, 0.3));\n",
              "      fill: #FFFFFF;\n",
              "    }\n",
              "  </style>\n",
              "\n",
              "      <script>\n",
              "        const buttonEl =\n",
              "          document.querySelector('#df-30e6213b-d14a-4018-84d2-48bade9bacb5 button.colab-df-convert');\n",
              "        buttonEl.style.display =\n",
              "          google.colab.kernel.accessAllowed ? 'block' : 'none';\n",
              "\n",
              "        async function convertToInteractive(key) {\n",
              "          const element = document.querySelector('#df-30e6213b-d14a-4018-84d2-48bade9bacb5');\n",
              "          const dataTable =\n",
              "            await google.colab.kernel.invokeFunction('convertToInteractive',\n",
              "                                                     [key], {});\n",
              "          if (!dataTable) return;\n",
              "\n",
              "          const docLinkHtml = 'Like what you see? Visit the ' +\n",
              "            '<a target=\"_blank\" href=https://colab.research.google.com/notebooks/data_table.ipynb>data table notebook</a>'\n",
              "            + ' to learn more about interactive tables.';\n",
              "          element.innerHTML = '';\n",
              "          dataTable['output_type'] = 'display_data';\n",
              "          await google.colab.output.renderOutput(dataTable, element);\n",
              "          const docLink = document.createElement('div');\n",
              "          docLink.innerHTML = docLinkHtml;\n",
              "          element.appendChild(docLink);\n",
              "        }\n",
              "      </script>\n",
              "    </div>\n",
              "  </div>\n",
              "  "
            ]
          },
          "metadata": {},
          "execution_count": 66
        }
      ]
    },
    {
      "cell_type": "code",
      "source": [
        "df.loc[df['Matches Played']>=372,'scores'] +=10\n",
        "df.loc[df['Winning Rate'] >= upper_bound_WinningRate, 'scores'] += 15\n",
        "df.loc[df['Loss Rate'] <= lower_bound_LosingRate, 'scores'] += 15\n",
        "df.loc[(df['Drawn Rate'] <= lower_bound_DrawnRate) & (df['Loss Rate'] <= lower_bound_LosingRate), 'scores'] += 10\n",
        "df.loc[(df['Clean Sheet Rate'] >= upper_bound_CleanSheetRate) & (df['Winning Rate'] >= upper_bound_WinningRate), 'scores'] += 10\n",
        "df.loc[df['Winners'] == 1, 'scores'] += 15\n",
        "df.loc[df['Runners-up'] == 1, 'scores'] += 10\n",
        "df.loc[df['lastplayed_pl'] == 2023, 'scores'] += 15"
      ],
      "metadata": {
        "id": "oWnEc8y_KXCX"
      },
      "execution_count": 67,
      "outputs": []
    },
    {
      "cell_type": "code",
      "source": [
        "# sort the DataFrame by score in descending order\n",
        "df_sort = df.sort_values(by='scores',ascending=False)\n",
        "\n",
        "# create a bar chart of team scores\n",
        "plt.figure(figsize=(25,10))\n",
        "plt.bar(df_sort['Club'],df_sort['scores'],color='blue')\n",
        "\n",
        "# add labels and title to the chart\n",
        "plt.ylabel('Scores', fontsize=16)\n",
        "plt.title('Football Club v/s performance score', fontsize=18)\n",
        "\n",
        "# add legend to explain the blue bars\n",
        "plt.legend(['Scores'], fontsize=14)\n",
        "\n",
        "# rotate the team names on the x-axis for readability\n",
        "plt.xticks(rotation=90, fontsize=14)\n",
        "plt.yticks(fontsize=14)\n",
        "\n",
        "# set the y-axis limit to start from 0 and end at 100\n",
        "plt.ylim(0, 100)\n",
        "\n",
        "# display the chart\n",
        "plt.show()"
      ],
      "metadata": {
        "colab": {
          "base_uri": "https://localhost:8080/",
          "height": 686
        },
        "id": "4yegVmrjK7Se",
        "outputId": "e95ecd6f-d705-49b9-bb0d-cf42658b5034"
      },
      "execution_count": 68,
      "outputs": [
        {
          "output_type": "display_data",
          "data": {
            "text/plain": [
              "<Figure size 2500x1000 with 1 Axes>"
            ],
            "image/png": "[encoded data removed]"
          },
          "metadata": {}
        }
      ]
    },
    {
      "cell_type": "markdown",
      "source": [
        "**Based on the above chart, Blackburn Rovers has the highest score basis our analysis and next best Leicester City**"
      ],
      "metadata": {
        "id": "xlZDdkdTLl4G"
      }
    },
    {
      "cell_type": "markdown",
      "source": [
        "To ensure a thorough evaluation of football club performance we must consider clubs current form.\n",
        "\n",
        "Let us check the score of those clubs that have played in the last three years. Specifically, suggest including clubs that have played in 2023, as well as those that last played in 2022 and 2021.\n",
        "\n",
        "This approach allows us to pinpoint those clubs that are currently in good form and have consistently performed well over the past few years."
      ],
      "metadata": {
        "id": "GrmwhYt1Ln1-"
      }
    },
    {
      "cell_type": "code",
      "source": [
        "# sort the DataFrame by score in descending order\n",
        "\n",
        "df_sort =df[(df['lastplayed_pl']==2023)|(df['lastplayed_pl']==2022)|(df['lastplayed_pl']==2021)].sort_values(by='scores',ascending=False)\n",
        "\n",
        "# create a bar chart of team scores\n",
        "plt.figure(figsize=(25,10))\n",
        "plt.bar(df_sort['Club'],df_sort['scores'],color='blue')\n",
        "\n",
        "# add labels and title to the chart\n",
        "plt.ylabel('Scores', fontsize=16)\n",
        "plt.title('Football Club v/s performance score', fontsize=18)\n",
        "\n",
        "# add legend to explain the blue bars\n",
        "plt.legend(['Scores'], fontsize=14)\n",
        "\n",
        "# rotate the team names on the x-axis for readability\n",
        "plt.xticks(rotation=90, fontsize=14)\n",
        "plt.yticks(fontsize=14)\n",
        "\n",
        "# set the y-axis limit to start from 0 and end at 100\n",
        "plt.ylim(0, 100)\n",
        "\n",
        "# display the chart\n",
        "plt.show()"
      ],
      "metadata": {
        "colab": {
          "base_uri": "https://localhost:8080/",
          "height": 686
        },
        "id": "2B0_g54ULwxP",
        "outputId": "7fff575a-bda3-449e-a86b-0e7339f691c6"
      },
      "execution_count": 70,
      "outputs": [
        {
          "output_type": "display_data",
          "data": {
            "text/plain": [
              "<Figure size 2500x1000 with 1 Axes>"
            ],
            "image/png": "[encoded data removed]"
          },
          "metadata": {}
        }
      ]
    },
    {
      "cell_type": "markdown",
      "source": [
        "Upon closer examination of the list, we can observe that our current leader, Blackburn Rovers, is not included. To gain a better understanding of their performance, it's necessary to investigate further and determine the last year in which Blackburn Rovers played. This information will provide crucial context to our analysis and enable us to assess their recent form accurately."
      ],
      "metadata": {
        "id": "bjb0NzAWMv53"
      }
    },
    {
      "cell_type": "code",
      "source": [
        "df[df['Club']=='Blackburn Rovers']['lastplayed_pl']"
      ],
      "metadata": {
        "colab": {
          "base_uri": "https://localhost:8080/"
        },
        "id": "tkANQCOwMz4-",
        "outputId": "6a6f9a8f-458d-49c6-f806-9d0911314d89"
      },
      "execution_count": 71,
      "outputs": [
        {
          "output_type": "execute_result",
          "data": {
            "text/plain": [
              "1    2012\n",
              "Name: lastplayed_pl, dtype: int64"
            ]
          },
          "metadata": {},
          "execution_count": 71
        }
      ]
    },
    {
      "cell_type": "markdown",
      "source": [
        "Blackburn Rovers last played in the tournament in 2012, which was quite some time ago. Given this information, we recommend that stakeholders consider investing in Leicester City instead. We believe that Leicester City's recent form and performance make them a better choice for investment.\n",
        "\n",
        "To support our claim, we will conduct further secondary research to provide additional evidence of Leicester City's current form and potential for success"
      ],
      "metadata": {
        "id": "xVZS6vl2M07N"
      }
    },
    {
      "cell_type": "markdown",
      "source": [
        "According to our research, Blackburn Rovers were relegated to the Championship league in 2012 i.e., league below Premier League and later to League One in 2017 i.e., league below Championship league. However, they were promoted back to the Championship in 2018 and have since finished in the middle of the table in recent years. Given their inconsistent performance and lack of presence in the Premier League since 2012, it would be inappropriate to recommend this club for investment.\n",
        "\n",
        "On the other hand, Leicester City, the 2016 Premier League champions, have consistently finished in the top 10 in recent years. They placed 5th in both the 2019-2020 and 2020-2021 seasons and finished 8th in 2021-2022. With sufficient financial backing, Leicester City has the potential to achieve even greater success in the near future. Therefore, it would be reasonable to recommend Leicester City to our clients.\n",
        "\n",
        "Source 1: https://www.transfermarkt.co.in/blackburn-rovers/platzierungen/verein/164\n",
        "\n",
        "Source 2: https://www.transfermarkt.co.in/leicester-city/platzierungen/verein/1003"
      ],
      "metadata": {
        "id": "2-hKr3cNNQ02"
      }
    },
    {
      "cell_type": "markdown",
      "source": [
        "###We recommend investing in Leicester City based on our analysis"
      ],
      "metadata": {
        "id": "_OxrVgXxNcZn"
      }
    }
  ]
}